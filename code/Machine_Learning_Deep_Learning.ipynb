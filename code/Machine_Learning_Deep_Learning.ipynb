{
 "cells": [
  {
   "cell_type": "code",
   "execution_count": 45,
   "metadata": {},
   "outputs": [],
   "source": [
    "import pandas as pd\n",
    "import numpy as np\n",
    "import matplotlib.pyplot as plt\n",
    "from sklearn.tree import DecisionTreeClassifier\n",
    "from sklearn.naive_bayes import GaussianNB\n",
    "from sklearn.neighbors import KNeighborsClassifier\n",
    "from sklearn.ensemble import RandomForestClassifier\n",
    "from sklearn.model_selection import train_test_split\n",
    "from sklearn.metrics import accuracy_score\n",
    "from sklearn.cluster import KMeans\n",
    "from scipy.stats import mode\n",
    "from sklearn.decomposition import PCA\n",
    "import tensorflow as tf\n",
    "from sklearn.preprocessing import LabelEncoder\n",
    "from sklearn.preprocessing import StandardScaler\n",
    "\n",
    "from sklearn.model_selection import GridSearchCV\n",
    "from scikeras.wrappers import KerasClassifier\n",
    "from sklearn.model_selection import RandomizedSearchCV\n",
    "from sklearn.metrics import adjusted_rand_score\n",
    "from sklearn.cluster import MeanShift\n",
    "from sklearn.neighbors import KernelDensity\n",
    "from sklearn.preprocessing import MinMaxScaler\n"
   ]
  },
  {
   "cell_type": "code",
   "execution_count": 3,
   "metadata": {},
   "outputs": [
    {
     "data": {
      "text/html": [
       "<div>\n",
       "<style scoped>\n",
       "    .dataframe tbody tr th:only-of-type {\n",
       "        vertical-align: middle;\n",
       "    }\n",
       "\n",
       "    .dataframe tbody tr th {\n",
       "        vertical-align: top;\n",
       "    }\n",
       "\n",
       "    .dataframe thead th {\n",
       "        text-align: right;\n",
       "    }\n",
       "</style>\n",
       "<table border=\"1\" class=\"dataframe\">\n",
       "  <thead>\n",
       "    <tr style=\"text-align: right;\">\n",
       "      <th></th>\n",
       "      <th>symmetry</th>\n",
       "      <th>longest_ortho_ratio</th>\n",
       "      <th>num_pixels_ratio</th>\n",
       "      <th>red_min</th>\n",
       "      <th>red_max</th>\n",
       "      <th>red_mean</th>\n",
       "      <th>red_median</th>\n",
       "      <th>red_std</th>\n",
       "      <th>green_min</th>\n",
       "      <th>green_max</th>\n",
       "      <th>green_mean</th>\n",
       "      <th>green_median</th>\n",
       "      <th>green_std</th>\n",
       "      <th>blue_min</th>\n",
       "      <th>blue_max</th>\n",
       "      <th>blue_mean</th>\n",
       "      <th>blue_median</th>\n",
       "      <th>blue_std</th>\n",
       "      <th>ecc</th>\n",
       "      <th>compactness</th>\n",
       "    </tr>\n",
       "  </thead>\n",
       "  <tbody>\n",
       "    <tr>\n",
       "      <th>0</th>\n",
       "      <td>0.288274</td>\n",
       "      <td>0.837457</td>\n",
       "      <td>0.002516</td>\n",
       "      <td>5.0</td>\n",
       "      <td>208.0</td>\n",
       "      <td>68.749506</td>\n",
       "      <td>57.0</td>\n",
       "      <td>48.239988</td>\n",
       "      <td>3.0</td>\n",
       "      <td>199.0</td>\n",
       "      <td>55.627400</td>\n",
       "      <td>38.0</td>\n",
       "      <td>45.736010</td>\n",
       "      <td>0.0</td>\n",
       "      <td>193.0</td>\n",
       "      <td>40.433209</td>\n",
       "      <td>24.0</td>\n",
       "      <td>36.701656</td>\n",
       "      <td>0.388091</td>\n",
       "      <td>0.071731</td>\n",
       "    </tr>\n",
       "    <tr>\n",
       "      <th>1</th>\n",
       "      <td>0.327541</td>\n",
       "      <td>0.685837</td>\n",
       "      <td>0.002891</td>\n",
       "      <td>2.0</td>\n",
       "      <td>248.0</td>\n",
       "      <td>64.560638</td>\n",
       "      <td>56.0</td>\n",
       "      <td>42.435025</td>\n",
       "      <td>2.0</td>\n",
       "      <td>251.0</td>\n",
       "      <td>52.931944</td>\n",
       "      <td>34.0</td>\n",
       "      <td>43.254608</td>\n",
       "      <td>0.0</td>\n",
       "      <td>244.0</td>\n",
       "      <td>36.428700</td>\n",
       "      <td>19.0</td>\n",
       "      <td>34.992745</td>\n",
       "      <td>0.595575</td>\n",
       "      <td>0.072312</td>\n",
       "    </tr>\n",
       "    <tr>\n",
       "      <th>2</th>\n",
       "      <td>0.338071</td>\n",
       "      <td>0.806587</td>\n",
       "      <td>0.007395</td>\n",
       "      <td>3.0</td>\n",
       "      <td>255.0</td>\n",
       "      <td>107.320344</td>\n",
       "      <td>115.0</td>\n",
       "      <td>58.736815</td>\n",
       "      <td>0.0</td>\n",
       "      <td>255.0</td>\n",
       "      <td>87.982980</td>\n",
       "      <td>86.0</td>\n",
       "      <td>60.055950</td>\n",
       "      <td>0.0</td>\n",
       "      <td>255.0</td>\n",
       "      <td>63.508531</td>\n",
       "      <td>52.0</td>\n",
       "      <td>54.819316</td>\n",
       "      <td>0.236830</td>\n",
       "      <td>0.077042</td>\n",
       "    </tr>\n",
       "    <tr>\n",
       "      <th>3</th>\n",
       "      <td>0.384825</td>\n",
       "      <td>0.710961</td>\n",
       "      <td>0.004452</td>\n",
       "      <td>5.0</td>\n",
       "      <td>219.0</td>\n",
       "      <td>88.170607</td>\n",
       "      <td>89.0</td>\n",
       "      <td>46.403770</td>\n",
       "      <td>3.0</td>\n",
       "      <td>213.0</td>\n",
       "      <td>71.713538</td>\n",
       "      <td>62.0</td>\n",
       "      <td>46.297466</td>\n",
       "      <td>0.0</td>\n",
       "      <td>201.0</td>\n",
       "      <td>51.065063</td>\n",
       "      <td>37.0</td>\n",
       "      <td>37.797139</td>\n",
       "      <td>0.735058</td>\n",
       "      <td>0.067748</td>\n",
       "    </tr>\n",
       "    <tr>\n",
       "      <th>4</th>\n",
       "      <td>0.406315</td>\n",
       "      <td>0.749827</td>\n",
       "      <td>0.003075</td>\n",
       "      <td>6.0</td>\n",
       "      <td>255.0</td>\n",
       "      <td>123.546796</td>\n",
       "      <td>134.0</td>\n",
       "      <td>62.406482</td>\n",
       "      <td>0.0</td>\n",
       "      <td>250.0</td>\n",
       "      <td>101.315632</td>\n",
       "      <td>92.0</td>\n",
       "      <td>63.138573</td>\n",
       "      <td>0.0</td>\n",
       "      <td>245.0</td>\n",
       "      <td>81.362602</td>\n",
       "      <td>64.0</td>\n",
       "      <td>60.768198</td>\n",
       "      <td>0.650280</td>\n",
       "      <td>0.070427</td>\n",
       "    </tr>\n",
       "    <tr>\n",
       "      <th>...</th>\n",
       "      <td>...</td>\n",
       "      <td>...</td>\n",
       "      <td>...</td>\n",
       "      <td>...</td>\n",
       "      <td>...</td>\n",
       "      <td>...</td>\n",
       "      <td>...</td>\n",
       "      <td>...</td>\n",
       "      <td>...</td>\n",
       "      <td>...</td>\n",
       "      <td>...</td>\n",
       "      <td>...</td>\n",
       "      <td>...</td>\n",
       "      <td>...</td>\n",
       "      <td>...</td>\n",
       "      <td>...</td>\n",
       "      <td>...</td>\n",
       "      <td>...</td>\n",
       "      <td>...</td>\n",
       "      <td>...</td>\n",
       "    </tr>\n",
       "    <tr>\n",
       "      <th>244</th>\n",
       "      <td>0.346617</td>\n",
       "      <td>0.984803</td>\n",
       "      <td>0.002083</td>\n",
       "      <td>7.0</td>\n",
       "      <td>214.0</td>\n",
       "      <td>98.700785</td>\n",
       "      <td>98.0</td>\n",
       "      <td>46.799467</td>\n",
       "      <td>7.0</td>\n",
       "      <td>208.0</td>\n",
       "      <td>75.144301</td>\n",
       "      <td>70.0</td>\n",
       "      <td>43.466326</td>\n",
       "      <td>0.0</td>\n",
       "      <td>204.0</td>\n",
       "      <td>55.657727</td>\n",
       "      <td>47.0</td>\n",
       "      <td>38.473859</td>\n",
       "      <td>0.776278</td>\n",
       "      <td>0.255672</td>\n",
       "    </tr>\n",
       "    <tr>\n",
       "      <th>245</th>\n",
       "      <td>0.371266</td>\n",
       "      <td>0.714982</td>\n",
       "      <td>0.006683</td>\n",
       "      <td>7.0</td>\n",
       "      <td>255.0</td>\n",
       "      <td>89.277366</td>\n",
       "      <td>82.0</td>\n",
       "      <td>52.397726</td>\n",
       "      <td>2.0</td>\n",
       "      <td>255.0</td>\n",
       "      <td>65.287788</td>\n",
       "      <td>52.0</td>\n",
       "      <td>46.710060</td>\n",
       "      <td>0.0</td>\n",
       "      <td>255.0</td>\n",
       "      <td>56.712233</td>\n",
       "      <td>46.0</td>\n",
       "      <td>39.267959</td>\n",
       "      <td>0.752551</td>\n",
       "      <td>0.212459</td>\n",
       "    </tr>\n",
       "    <tr>\n",
       "      <th>246</th>\n",
       "      <td>0.618560</td>\n",
       "      <td>0.773536</td>\n",
       "      <td>0.002344</td>\n",
       "      <td>5.0</td>\n",
       "      <td>252.0</td>\n",
       "      <td>79.894225</td>\n",
       "      <td>60.0</td>\n",
       "      <td>54.355815</td>\n",
       "      <td>4.0</td>\n",
       "      <td>239.0</td>\n",
       "      <td>60.236453</td>\n",
       "      <td>37.0</td>\n",
       "      <td>52.164212</td>\n",
       "      <td>0.0</td>\n",
       "      <td>233.0</td>\n",
       "      <td>57.192094</td>\n",
       "      <td>31.0</td>\n",
       "      <td>51.857752</td>\n",
       "      <td>0.648535</td>\n",
       "      <td>0.172757</td>\n",
       "    </tr>\n",
       "    <tr>\n",
       "      <th>247</th>\n",
       "      <td>0.499115</td>\n",
       "      <td>0.944126</td>\n",
       "      <td>0.003986</td>\n",
       "      <td>6.0</td>\n",
       "      <td>255.0</td>\n",
       "      <td>140.451749</td>\n",
       "      <td>141.0</td>\n",
       "      <td>57.828557</td>\n",
       "      <td>3.0</td>\n",
       "      <td>255.0</td>\n",
       "      <td>111.768241</td>\n",
       "      <td>119.0</td>\n",
       "      <td>52.958137</td>\n",
       "      <td>3.0</td>\n",
       "      <td>255.0</td>\n",
       "      <td>103.180300</td>\n",
       "      <td>102.0</td>\n",
       "      <td>53.474601</td>\n",
       "      <td>0.389568</td>\n",
       "      <td>0.313861</td>\n",
       "    </tr>\n",
       "    <tr>\n",
       "      <th>248</th>\n",
       "      <td>0.412965</td>\n",
       "      <td>0.706064</td>\n",
       "      <td>0.007789</td>\n",
       "      <td>0.0</td>\n",
       "      <td>255.0</td>\n",
       "      <td>127.060824</td>\n",
       "      <td>125.0</td>\n",
       "      <td>62.591785</td>\n",
       "      <td>0.0</td>\n",
       "      <td>255.0</td>\n",
       "      <td>101.626006</td>\n",
       "      <td>96.0</td>\n",
       "      <td>60.361236</td>\n",
       "      <td>0.0</td>\n",
       "      <td>255.0</td>\n",
       "      <td>77.429467</td>\n",
       "      <td>63.0</td>\n",
       "      <td>59.839465</td>\n",
       "      <td>0.687418</td>\n",
       "      <td>0.272099</td>\n",
       "    </tr>\n",
       "  </tbody>\n",
       "</table>\n",
       "<p>249 rows × 20 columns</p>\n",
       "</div>"
      ],
      "text/plain": [
       "     symmetry  longest_ortho_ratio  num_pixels_ratio  red_min  red_max  \\\n",
       "0    0.288274             0.837457          0.002516      5.0    208.0   \n",
       "1    0.327541             0.685837          0.002891      2.0    248.0   \n",
       "2    0.338071             0.806587          0.007395      3.0    255.0   \n",
       "3    0.384825             0.710961          0.004452      5.0    219.0   \n",
       "4    0.406315             0.749827          0.003075      6.0    255.0   \n",
       "..        ...                  ...               ...      ...      ...   \n",
       "244  0.346617             0.984803          0.002083      7.0    214.0   \n",
       "245  0.371266             0.714982          0.006683      7.0    255.0   \n",
       "246  0.618560             0.773536          0.002344      5.0    252.0   \n",
       "247  0.499115             0.944126          0.003986      6.0    255.0   \n",
       "248  0.412965             0.706064          0.007789      0.0    255.0   \n",
       "\n",
       "       red_mean  red_median    red_std  green_min  green_max  green_mean  \\\n",
       "0     68.749506        57.0  48.239988        3.0      199.0   55.627400   \n",
       "1     64.560638        56.0  42.435025        2.0      251.0   52.931944   \n",
       "2    107.320344       115.0  58.736815        0.0      255.0   87.982980   \n",
       "3     88.170607        89.0  46.403770        3.0      213.0   71.713538   \n",
       "4    123.546796       134.0  62.406482        0.0      250.0  101.315632   \n",
       "..          ...         ...        ...        ...        ...         ...   \n",
       "244   98.700785        98.0  46.799467        7.0      208.0   75.144301   \n",
       "245   89.277366        82.0  52.397726        2.0      255.0   65.287788   \n",
       "246   79.894225        60.0  54.355815        4.0      239.0   60.236453   \n",
       "247  140.451749       141.0  57.828557        3.0      255.0  111.768241   \n",
       "248  127.060824       125.0  62.591785        0.0      255.0  101.626006   \n",
       "\n",
       "     green_median  green_std  blue_min  blue_max   blue_mean  blue_median  \\\n",
       "0            38.0  45.736010       0.0     193.0   40.433209         24.0   \n",
       "1            34.0  43.254608       0.0     244.0   36.428700         19.0   \n",
       "2            86.0  60.055950       0.0     255.0   63.508531         52.0   \n",
       "3            62.0  46.297466       0.0     201.0   51.065063         37.0   \n",
       "4            92.0  63.138573       0.0     245.0   81.362602         64.0   \n",
       "..            ...        ...       ...       ...         ...          ...   \n",
       "244          70.0  43.466326       0.0     204.0   55.657727         47.0   \n",
       "245          52.0  46.710060       0.0     255.0   56.712233         46.0   \n",
       "246          37.0  52.164212       0.0     233.0   57.192094         31.0   \n",
       "247         119.0  52.958137       3.0     255.0  103.180300        102.0   \n",
       "248          96.0  60.361236       0.0     255.0   77.429467         63.0   \n",
       "\n",
       "      blue_std       ecc  compactness  \n",
       "0    36.701656  0.388091     0.071731  \n",
       "1    34.992745  0.595575     0.072312  \n",
       "2    54.819316  0.236830     0.077042  \n",
       "3    37.797139  0.735058     0.067748  \n",
       "4    60.768198  0.650280     0.070427  \n",
       "..         ...       ...          ...  \n",
       "244  38.473859  0.776278     0.255672  \n",
       "245  39.267959  0.752551     0.212459  \n",
       "246  51.857752  0.648535     0.172757  \n",
       "247  53.474601  0.389568     0.313861  \n",
       "248  59.839465  0.687418     0.272099  \n",
       "\n",
       "[249 rows x 20 columns]"
      ]
     },
     "execution_count": 3,
     "metadata": {},
     "output_type": "execute_result"
    }
   ],
   "source": [
    "df = pd.read_csv('dataframe.csv')\n",
    "df"
   ]
  },
  {
   "cell_type": "code",
   "execution_count": 4,
   "metadata": {},
   "outputs": [
    {
     "data": {
      "text/html": [
       "<div>\n",
       "<style scoped>\n",
       "    .dataframe tbody tr th:only-of-type {\n",
       "        vertical-align: middle;\n",
       "    }\n",
       "\n",
       "    .dataframe tbody tr th {\n",
       "        vertical-align: top;\n",
       "    }\n",
       "\n",
       "    .dataframe thead th {\n",
       "        text-align: right;\n",
       "    }\n",
       "</style>\n",
       "<table border=\"1\" class=\"dataframe\">\n",
       "  <thead>\n",
       "    <tr style=\"text-align: right;\">\n",
       "      <th></th>\n",
       "      <th>bug type</th>\n",
       "      <th>species</th>\n",
       "    </tr>\n",
       "  </thead>\n",
       "  <tbody>\n",
       "    <tr>\n",
       "      <th>0</th>\n",
       "      <td>Bee</td>\n",
       "      <td>Apis mellifera</td>\n",
       "    </tr>\n",
       "    <tr>\n",
       "      <th>1</th>\n",
       "      <td>Bee</td>\n",
       "      <td>Apis mellifera</td>\n",
       "    </tr>\n",
       "    <tr>\n",
       "      <th>2</th>\n",
       "      <td>Bee</td>\n",
       "      <td>Apis mellifera</td>\n",
       "    </tr>\n",
       "    <tr>\n",
       "      <th>3</th>\n",
       "      <td>Bee</td>\n",
       "      <td>Apis mellifera</td>\n",
       "    </tr>\n",
       "    <tr>\n",
       "      <th>4</th>\n",
       "      <td>Bee</td>\n",
       "      <td>Apis mellifera</td>\n",
       "    </tr>\n",
       "    <tr>\n",
       "      <th>...</th>\n",
       "      <td>...</td>\n",
       "      <td>...</td>\n",
       "    </tr>\n",
       "    <tr>\n",
       "      <th>245</th>\n",
       "      <td>Bee</td>\n",
       "      <td>Apis mellifera</td>\n",
       "    </tr>\n",
       "    <tr>\n",
       "      <th>246</th>\n",
       "      <td>Bee</td>\n",
       "      <td>Apis mellifera</td>\n",
       "    </tr>\n",
       "    <tr>\n",
       "      <th>247</th>\n",
       "      <td>Bee</td>\n",
       "      <td>Apis mellifera</td>\n",
       "    </tr>\n",
       "    <tr>\n",
       "      <th>248</th>\n",
       "      <td>Bee</td>\n",
       "      <td>Apis mellifera</td>\n",
       "    </tr>\n",
       "    <tr>\n",
       "      <th>249</th>\n",
       "      <td>Bee</td>\n",
       "      <td>Apis mellifera</td>\n",
       "    </tr>\n",
       "  </tbody>\n",
       "</table>\n",
       "<p>250 rows × 2 columns</p>\n",
       "</div>"
      ],
      "text/plain": [
       "    bug type         species\n",
       "0        Bee  Apis mellifera\n",
       "1        Bee  Apis mellifera\n",
       "2        Bee  Apis mellifera\n",
       "3        Bee  Apis mellifera\n",
       "4        Bee  Apis mellifera\n",
       "..       ...             ...\n",
       "245      Bee  Apis mellifera\n",
       "246      Bee  Apis mellifera\n",
       "247      Bee  Apis mellifera\n",
       "248      Bee  Apis mellifera\n",
       "249      Bee  Apis mellifera\n",
       "\n",
       "[250 rows x 2 columns]"
      ]
     },
     "execution_count": 4,
     "metadata": {},
     "output_type": "execute_result"
    }
   ],
   "source": [
    "df_type = pd.read_csv('classif.csv', header=0)\n",
    "df_type"
   ]
  },
  {
   "cell_type": "code",
   "execution_count": 5,
   "metadata": {},
   "outputs": [
    {
     "data": {
      "text/html": [
       "<div>\n",
       "<style scoped>\n",
       "    .dataframe tbody tr th:only-of-type {\n",
       "        vertical-align: middle;\n",
       "    }\n",
       "\n",
       "    .dataframe tbody tr th {\n",
       "        vertical-align: top;\n",
       "    }\n",
       "\n",
       "    .dataframe thead th {\n",
       "        text-align: right;\n",
       "    }\n",
       "</style>\n",
       "<table border=\"1\" class=\"dataframe\">\n",
       "  <thead>\n",
       "    <tr style=\"text-align: right;\">\n",
       "      <th></th>\n",
       "      <th>symmetry</th>\n",
       "      <th>longest_ortho_ratio</th>\n",
       "      <th>num_pixels_ratio</th>\n",
       "      <th>red_min</th>\n",
       "      <th>red_max</th>\n",
       "      <th>red_mean</th>\n",
       "      <th>red_median</th>\n",
       "      <th>red_std</th>\n",
       "      <th>green_min</th>\n",
       "      <th>green_max</th>\n",
       "      <th>...</th>\n",
       "      <th>green_median</th>\n",
       "      <th>green_std</th>\n",
       "      <th>blue_min</th>\n",
       "      <th>blue_max</th>\n",
       "      <th>blue_mean</th>\n",
       "      <th>blue_median</th>\n",
       "      <th>blue_std</th>\n",
       "      <th>ecc</th>\n",
       "      <th>compactness</th>\n",
       "      <th>bug type</th>\n",
       "    </tr>\n",
       "  </thead>\n",
       "  <tbody>\n",
       "    <tr>\n",
       "      <th>0</th>\n",
       "      <td>0.288274</td>\n",
       "      <td>0.837457</td>\n",
       "      <td>0.002516</td>\n",
       "      <td>5.0</td>\n",
       "      <td>208.0</td>\n",
       "      <td>68.749506</td>\n",
       "      <td>57.0</td>\n",
       "      <td>48.239988</td>\n",
       "      <td>3.0</td>\n",
       "      <td>199.0</td>\n",
       "      <td>...</td>\n",
       "      <td>38.0</td>\n",
       "      <td>45.736010</td>\n",
       "      <td>0.0</td>\n",
       "      <td>193.0</td>\n",
       "      <td>40.433209</td>\n",
       "      <td>24.0</td>\n",
       "      <td>36.701656</td>\n",
       "      <td>0.388091</td>\n",
       "      <td>0.071731</td>\n",
       "      <td>Bee</td>\n",
       "    </tr>\n",
       "    <tr>\n",
       "      <th>1</th>\n",
       "      <td>0.327541</td>\n",
       "      <td>0.685837</td>\n",
       "      <td>0.002891</td>\n",
       "      <td>2.0</td>\n",
       "      <td>248.0</td>\n",
       "      <td>64.560638</td>\n",
       "      <td>56.0</td>\n",
       "      <td>42.435025</td>\n",
       "      <td>2.0</td>\n",
       "      <td>251.0</td>\n",
       "      <td>...</td>\n",
       "      <td>34.0</td>\n",
       "      <td>43.254608</td>\n",
       "      <td>0.0</td>\n",
       "      <td>244.0</td>\n",
       "      <td>36.428700</td>\n",
       "      <td>19.0</td>\n",
       "      <td>34.992745</td>\n",
       "      <td>0.595575</td>\n",
       "      <td>0.072312</td>\n",
       "      <td>Bee</td>\n",
       "    </tr>\n",
       "    <tr>\n",
       "      <th>2</th>\n",
       "      <td>0.338071</td>\n",
       "      <td>0.806587</td>\n",
       "      <td>0.007395</td>\n",
       "      <td>3.0</td>\n",
       "      <td>255.0</td>\n",
       "      <td>107.320344</td>\n",
       "      <td>115.0</td>\n",
       "      <td>58.736815</td>\n",
       "      <td>0.0</td>\n",
       "      <td>255.0</td>\n",
       "      <td>...</td>\n",
       "      <td>86.0</td>\n",
       "      <td>60.055950</td>\n",
       "      <td>0.0</td>\n",
       "      <td>255.0</td>\n",
       "      <td>63.508531</td>\n",
       "      <td>52.0</td>\n",
       "      <td>54.819316</td>\n",
       "      <td>0.236830</td>\n",
       "      <td>0.077042</td>\n",
       "      <td>Bee</td>\n",
       "    </tr>\n",
       "    <tr>\n",
       "      <th>3</th>\n",
       "      <td>0.384825</td>\n",
       "      <td>0.710961</td>\n",
       "      <td>0.004452</td>\n",
       "      <td>5.0</td>\n",
       "      <td>219.0</td>\n",
       "      <td>88.170607</td>\n",
       "      <td>89.0</td>\n",
       "      <td>46.403770</td>\n",
       "      <td>3.0</td>\n",
       "      <td>213.0</td>\n",
       "      <td>...</td>\n",
       "      <td>62.0</td>\n",
       "      <td>46.297466</td>\n",
       "      <td>0.0</td>\n",
       "      <td>201.0</td>\n",
       "      <td>51.065063</td>\n",
       "      <td>37.0</td>\n",
       "      <td>37.797139</td>\n",
       "      <td>0.735058</td>\n",
       "      <td>0.067748</td>\n",
       "      <td>Bee</td>\n",
       "    </tr>\n",
       "    <tr>\n",
       "      <th>4</th>\n",
       "      <td>0.406315</td>\n",
       "      <td>0.749827</td>\n",
       "      <td>0.003075</td>\n",
       "      <td>6.0</td>\n",
       "      <td>255.0</td>\n",
       "      <td>123.546796</td>\n",
       "      <td>134.0</td>\n",
       "      <td>62.406482</td>\n",
       "      <td>0.0</td>\n",
       "      <td>250.0</td>\n",
       "      <td>...</td>\n",
       "      <td>92.0</td>\n",
       "      <td>63.138573</td>\n",
       "      <td>0.0</td>\n",
       "      <td>245.0</td>\n",
       "      <td>81.362602</td>\n",
       "      <td>64.0</td>\n",
       "      <td>60.768198</td>\n",
       "      <td>0.650280</td>\n",
       "      <td>0.070427</td>\n",
       "      <td>Bee</td>\n",
       "    </tr>\n",
       "    <tr>\n",
       "      <th>...</th>\n",
       "      <td>...</td>\n",
       "      <td>...</td>\n",
       "      <td>...</td>\n",
       "      <td>...</td>\n",
       "      <td>...</td>\n",
       "      <td>...</td>\n",
       "      <td>...</td>\n",
       "      <td>...</td>\n",
       "      <td>...</td>\n",
       "      <td>...</td>\n",
       "      <td>...</td>\n",
       "      <td>...</td>\n",
       "      <td>...</td>\n",
       "      <td>...</td>\n",
       "      <td>...</td>\n",
       "      <td>...</td>\n",
       "      <td>...</td>\n",
       "      <td>...</td>\n",
       "      <td>...</td>\n",
       "      <td>...</td>\n",
       "      <td>...</td>\n",
       "    </tr>\n",
       "    <tr>\n",
       "      <th>244</th>\n",
       "      <td>0.346617</td>\n",
       "      <td>0.984803</td>\n",
       "      <td>0.002083</td>\n",
       "      <td>7.0</td>\n",
       "      <td>214.0</td>\n",
       "      <td>98.700785</td>\n",
       "      <td>98.0</td>\n",
       "      <td>46.799467</td>\n",
       "      <td>7.0</td>\n",
       "      <td>208.0</td>\n",
       "      <td>...</td>\n",
       "      <td>70.0</td>\n",
       "      <td>43.466326</td>\n",
       "      <td>0.0</td>\n",
       "      <td>204.0</td>\n",
       "      <td>55.657727</td>\n",
       "      <td>47.0</td>\n",
       "      <td>38.473859</td>\n",
       "      <td>0.776278</td>\n",
       "      <td>0.255672</td>\n",
       "      <td>Bee</td>\n",
       "    </tr>\n",
       "    <tr>\n",
       "      <th>245</th>\n",
       "      <td>0.371266</td>\n",
       "      <td>0.714982</td>\n",
       "      <td>0.006683</td>\n",
       "      <td>7.0</td>\n",
       "      <td>255.0</td>\n",
       "      <td>89.277366</td>\n",
       "      <td>82.0</td>\n",
       "      <td>52.397726</td>\n",
       "      <td>2.0</td>\n",
       "      <td>255.0</td>\n",
       "      <td>...</td>\n",
       "      <td>52.0</td>\n",
       "      <td>46.710060</td>\n",
       "      <td>0.0</td>\n",
       "      <td>255.0</td>\n",
       "      <td>56.712233</td>\n",
       "      <td>46.0</td>\n",
       "      <td>39.267959</td>\n",
       "      <td>0.752551</td>\n",
       "      <td>0.212459</td>\n",
       "      <td>Bee</td>\n",
       "    </tr>\n",
       "    <tr>\n",
       "      <th>246</th>\n",
       "      <td>0.618560</td>\n",
       "      <td>0.773536</td>\n",
       "      <td>0.002344</td>\n",
       "      <td>5.0</td>\n",
       "      <td>252.0</td>\n",
       "      <td>79.894225</td>\n",
       "      <td>60.0</td>\n",
       "      <td>54.355815</td>\n",
       "      <td>4.0</td>\n",
       "      <td>239.0</td>\n",
       "      <td>...</td>\n",
       "      <td>37.0</td>\n",
       "      <td>52.164212</td>\n",
       "      <td>0.0</td>\n",
       "      <td>233.0</td>\n",
       "      <td>57.192094</td>\n",
       "      <td>31.0</td>\n",
       "      <td>51.857752</td>\n",
       "      <td>0.648535</td>\n",
       "      <td>0.172757</td>\n",
       "      <td>Bee</td>\n",
       "    </tr>\n",
       "    <tr>\n",
       "      <th>247</th>\n",
       "      <td>0.499115</td>\n",
       "      <td>0.944126</td>\n",
       "      <td>0.003986</td>\n",
       "      <td>6.0</td>\n",
       "      <td>255.0</td>\n",
       "      <td>140.451749</td>\n",
       "      <td>141.0</td>\n",
       "      <td>57.828557</td>\n",
       "      <td>3.0</td>\n",
       "      <td>255.0</td>\n",
       "      <td>...</td>\n",
       "      <td>119.0</td>\n",
       "      <td>52.958137</td>\n",
       "      <td>3.0</td>\n",
       "      <td>255.0</td>\n",
       "      <td>103.180300</td>\n",
       "      <td>102.0</td>\n",
       "      <td>53.474601</td>\n",
       "      <td>0.389568</td>\n",
       "      <td>0.313861</td>\n",
       "      <td>Bee</td>\n",
       "    </tr>\n",
       "    <tr>\n",
       "      <th>248</th>\n",
       "      <td>0.412965</td>\n",
       "      <td>0.706064</td>\n",
       "      <td>0.007789</td>\n",
       "      <td>0.0</td>\n",
       "      <td>255.0</td>\n",
       "      <td>127.060824</td>\n",
       "      <td>125.0</td>\n",
       "      <td>62.591785</td>\n",
       "      <td>0.0</td>\n",
       "      <td>255.0</td>\n",
       "      <td>...</td>\n",
       "      <td>96.0</td>\n",
       "      <td>60.361236</td>\n",
       "      <td>0.0</td>\n",
       "      <td>255.0</td>\n",
       "      <td>77.429467</td>\n",
       "      <td>63.0</td>\n",
       "      <td>59.839465</td>\n",
       "      <td>0.687418</td>\n",
       "      <td>0.272099</td>\n",
       "      <td>Bee</td>\n",
       "    </tr>\n",
       "  </tbody>\n",
       "</table>\n",
       "<p>249 rows × 21 columns</p>\n",
       "</div>"
      ],
      "text/plain": [
       "     symmetry  longest_ortho_ratio  num_pixels_ratio  red_min  red_max  \\\n",
       "0    0.288274             0.837457          0.002516      5.0    208.0   \n",
       "1    0.327541             0.685837          0.002891      2.0    248.0   \n",
       "2    0.338071             0.806587          0.007395      3.0    255.0   \n",
       "3    0.384825             0.710961          0.004452      5.0    219.0   \n",
       "4    0.406315             0.749827          0.003075      6.0    255.0   \n",
       "..        ...                  ...               ...      ...      ...   \n",
       "244  0.346617             0.984803          0.002083      7.0    214.0   \n",
       "245  0.371266             0.714982          0.006683      7.0    255.0   \n",
       "246  0.618560             0.773536          0.002344      5.0    252.0   \n",
       "247  0.499115             0.944126          0.003986      6.0    255.0   \n",
       "248  0.412965             0.706064          0.007789      0.0    255.0   \n",
       "\n",
       "       red_mean  red_median    red_std  green_min  green_max  ...  \\\n",
       "0     68.749506        57.0  48.239988        3.0      199.0  ...   \n",
       "1     64.560638        56.0  42.435025        2.0      251.0  ...   \n",
       "2    107.320344       115.0  58.736815        0.0      255.0  ...   \n",
       "3     88.170607        89.0  46.403770        3.0      213.0  ...   \n",
       "4    123.546796       134.0  62.406482        0.0      250.0  ...   \n",
       "..          ...         ...        ...        ...        ...  ...   \n",
       "244   98.700785        98.0  46.799467        7.0      208.0  ...   \n",
       "245   89.277366        82.0  52.397726        2.0      255.0  ...   \n",
       "246   79.894225        60.0  54.355815        4.0      239.0  ...   \n",
       "247  140.451749       141.0  57.828557        3.0      255.0  ...   \n",
       "248  127.060824       125.0  62.591785        0.0      255.0  ...   \n",
       "\n",
       "     green_median  green_std  blue_min  blue_max   blue_mean  blue_median  \\\n",
       "0            38.0  45.736010       0.0     193.0   40.433209         24.0   \n",
       "1            34.0  43.254608       0.0     244.0   36.428700         19.0   \n",
       "2            86.0  60.055950       0.0     255.0   63.508531         52.0   \n",
       "3            62.0  46.297466       0.0     201.0   51.065063         37.0   \n",
       "4            92.0  63.138573       0.0     245.0   81.362602         64.0   \n",
       "..            ...        ...       ...       ...         ...          ...   \n",
       "244          70.0  43.466326       0.0     204.0   55.657727         47.0   \n",
       "245          52.0  46.710060       0.0     255.0   56.712233         46.0   \n",
       "246          37.0  52.164212       0.0     233.0   57.192094         31.0   \n",
       "247         119.0  52.958137       3.0     255.0  103.180300        102.0   \n",
       "248          96.0  60.361236       0.0     255.0   77.429467         63.0   \n",
       "\n",
       "      blue_std       ecc  compactness  bug type  \n",
       "0    36.701656  0.388091     0.071731       Bee  \n",
       "1    34.992745  0.595575     0.072312       Bee  \n",
       "2    54.819316  0.236830     0.077042       Bee  \n",
       "3    37.797139  0.735058     0.067748       Bee  \n",
       "4    60.768198  0.650280     0.070427       Bee  \n",
       "..         ...       ...          ...       ...  \n",
       "244  38.473859  0.776278     0.255672       Bee  \n",
       "245  39.267959  0.752551     0.212459       Bee  \n",
       "246  51.857752  0.648535     0.172757       Bee  \n",
       "247  53.474601  0.389568     0.313861       Bee  \n",
       "248  59.839465  0.687418     0.272099       Bee  \n",
       "\n",
       "[249 rows x 21 columns]"
      ]
     },
     "execution_count": 5,
     "metadata": {},
     "output_type": "execute_result"
    }
   ],
   "source": [
    "df['bug type'] = df_type['bug type']\n",
    "df"
   ]
  },
  {
   "cell_type": "markdown",
   "metadata": {},
   "source": [
    "# **Split Data/Scale Data**"
   ]
  },
  {
   "cell_type": "code",
   "execution_count": 6,
   "metadata": {},
   "outputs": [],
   "source": [
    "# Split the data into features and target variable\n",
    "X = df.drop('bug type', axis=1)\n",
    "df_6_features = X[['symmetry', 'longest_ortho_ratio', 'num_pixels_ratio', 'ecc', 'compactness']]\n",
    "y = df['bug type']\n",
    "\n",
    "# Split the data into training and testing sets\n",
    "# X_train, X_test, y_train, y_test , df_6_train, df_6_test= train_test_split(X, y, df_6_features, test_size=0.2, random_state=42)\n",
    "\n",
    "# First split the data into 80% train and 20% test\n",
    "X_train, X_test, y_train, y_test = train_test_split(X, y, test_size=0.2, random_state=42)\n",
    "\n",
    "# Then split the train data into 75% train and 25% validation\n",
    "# This will result in 60% train, 20% validation, and 20% test overall\n",
    "X_train, X_val, y_train, y_val = train_test_split(X_train, y_train, test_size=0.25, random_state=42)"
   ]
  },
  {
   "cell_type": "code",
   "execution_count": 47,
   "metadata": {},
   "outputs": [],
   "source": [
    "X_train_np = X_train.to_numpy()\n",
    "X_test_np = X_test.to_numpy()\n",
    "X_val_np = X_val.to_numpy()\n",
    "y_train_np = y_train.to_numpy()\n",
    "y_test_np = y_test.to_numpy()\n",
    "y_val_np = y_val.to_numpy()\n",
    "\n",
    "# df_6_train_np = df_6_train.to_numpy()\n",
    "# df_6_test_np = df_6_test.to_numpy()\n",
    "\n",
    "scaler = StandardScaler()\n",
    "X_stand_train = scaler.fit_transform(X_train_np)\n",
    "X_stand_test = scaler.fit_transform(X_test_np)\n",
    "X_stand_val = scaler.fit_transform(X_val_np)\n",
    "\n",
    "# df_6_stand_train = scaler.fit_transform(df_6_train_np)\n",
    "# df_6_stand_test = scaler.fit_transform(df_6_test_np)\n",
    "\n",
    "scaler = MinMaxScaler()\n",
    "X_norm_train = scaler.fit_transform(X_train_np)\n",
    "X_norm_test = scaler.fit_transform(X_test_np)\n",
    "X_norm_val = scaler.fit_transform(X_val_np)\n",
    "\n",
    "encoder = LabelEncoder()\n",
    "y_train_np = encoder.fit_transform(y_train_np)\n",
    "y_test_np = encoder.fit_transform(y_test_np)\n",
    "y_val_np = encoder.fit_transform(y_val_np)"
   ]
  },
  {
   "cell_type": "markdown",
   "metadata": {},
   "source": [
    "# **2 supervised methods that are neither deep learning nor ensemble learning**"
   ]
  },
  {
   "cell_type": "markdown",
   "metadata": {},
   "source": [
    "#### **Decision Tree**"
   ]
  },
  {
   "cell_type": "code",
   "execution_count": 98,
   "metadata": {},
   "outputs": [
    {
     "name": "stdout",
     "output_type": "stream",
     "text": [
      "Accuracy: 0.46\n",
      "Accuracy: 0.54\n",
      "Accuracy: 0.58\n",
      "Accuracy: 0.66\n",
      "Accuracy: 0.68\n",
      "Accuracy: 0.7\n",
      "Accuracy: 0.72\n",
      "Accuracy: 0.76\n"
     ]
    }
   ],
   "source": [
    "model = 0\n",
    "tampon = 0\n",
    "for i in range (0, 1000):\n",
    "    # Create Decision Tree classifer object\n",
    "    clf = DecisionTreeClassifier(max_depth=17, min_samples_split=19, min_samples_leaf=3, max_features='sqrt', criterion='entropy')\n",
    "\n",
    "    # Train Decision Tree Classifer\n",
    "    clf = clf.fit(X_train, y_train)\n",
    "\n",
    "    #Predict the response for test dataset\n",
    "    y_pred = clf.predict(X_test)\n",
    "\n",
    "    # Model Accuracy, how often is the classifier correct?\n",
    "    accuracy = accuracy_score(y_test, y_pred) \n",
    "    if accuracy > tampon:\n",
    "        print(\"Accuracy:\", accuracy)\n",
    "        tampon = accuracy\n",
    "        model = clf"
   ]
  },
  {
   "cell_type": "raw",
   "metadata": {
    "vscode": {
     "languageId": "raw"
    }
   },
   "source": [
    "model = 0\n",
    "tampon = 0\n",
    "for i in range (0, 1000):\n",
    "    # Create Decision Tree classifer object\n",
    "    clf = DecisionTreeClassifier(max_depth=15, min_samples_split=20, min_samples_leaf=5, max_features='sqrt')\n",
    "\n",
    "    # Train Decision Tree Classifer\n",
    "    clf = clf.fit(X_norm_train, y_train_np)\n",
    "\n",
    "    #Predict the response for test dataset\n",
    "    y_pred = clf.predict(X_norm_test)\n",
    "\n",
    "    # Model Accuracy, how often is the classifier correct?\n",
    "    accuracy = accuracy_score(y_test_np, y_pred) \n",
    "    if accuracy > tampon:\n",
    "        print(\"Accuracy:\", accuracy)\n",
    "        tampon = accuracy\n",
    "        model = clf"
   ]
  },
  {
   "cell_type": "raw",
   "metadata": {
    "vscode": {
     "languageId": "raw"
    }
   },
   "source": [
    "model = 0\n",
    "tampon = 0\n",
    "for i in range (0, 1000):\n",
    "    # Create Decision Tree classifer object\n",
    "    clf = DecisionTreeClassifier(max_depth=15, min_samples_split=20, min_samples_leaf=5, max_features='sqrt')\n",
    "\n",
    "    # Train Decision Tree Classifer\n",
    "    clf = clf.fit(df_6_train, y_train)\n",
    "\n",
    "    #Predict the response for test dataset\n",
    "    y_pred = clf.predict(df_6_test)\n",
    "\n",
    "    # Model Accuracy, how often is the classifier correct?\n",
    "    accuracy = accuracy_score(y_test, y_pred) \n",
    "    if accuracy > tampon:\n",
    "        print(\"Accuracy:\", accuracy)\n",
    "        tampon = accuracy\n",
    "        model = clf"
   ]
  },
  {
   "cell_type": "markdown",
   "metadata": {},
   "source": [
    "0.8 accuracy wow thats good but maybe overfit ?"
   ]
  },
  {
   "cell_type": "markdown",
   "metadata": {},
   "source": [
    "#### **Gaussian Naive Bayes**"
   ]
  },
  {
   "cell_type": "code",
   "execution_count": 8,
   "metadata": {},
   "outputs": [
    {
     "name": "stdout",
     "output_type": "stream",
     "text": [
      "Accuracy: 0.34\n",
      "Accuracy: 0.38\n",
      "Accuracy: 0.4\n"
     ]
    }
   ],
   "source": [
    "model = 0\n",
    "tampon = 0\n",
    "for i in range (1, 25):\n",
    "    # Create a Gaussian Naive Bayes classifier\n",
    "    gnb = GaussianNB(var_smoothing=1/i)\n",
    "\n",
    "    # Fit the classifier to the training data\n",
    "    gnb.fit(X_train, y_train)\n",
    "\n",
    "    # Predict the labels of the test data\n",
    "    y_pred = gnb.predict(X_test)\n",
    "\n",
    "    # Model Accuracy, how often is the classifier correct?\n",
    "    accuracy = accuracy_score(y_test, y_pred) \n",
    "    if accuracy > tampon:\n",
    "        print(\"Accuracy:\", accuracy)\n",
    "        tampon = accuracy\n",
    "        model = gnb"
   ]
  },
  {
   "cell_type": "raw",
   "metadata": {
    "vscode": {
     "languageId": "raw"
    }
   },
   "source": [
    "model = 0\n",
    "tampon = 0\n",
    "for i in range (1, 25):\n",
    "    # Create a Gaussian Naive Bayes classifier\n",
    "    gnb = GaussianNB(var_smoothing=1/i)\n",
    "\n",
    "    # Fit the classifier to the training data\n",
    "    gnb.fit(df_6_train, y_train)\n",
    "\n",
    "    # Predict the labels of the test data\n",
    "    y_pred = gnb.predict(df_6_test)\n",
    "\n",
    "    # Model Accuracy, how often is the classifier correct?\n",
    "    accuracy = accuracy_score(y_test, y_pred) \n",
    "    if accuracy > tampon:\n",
    "        print(\"Accuracy:\", accuracy)\n",
    "        tampon = accuracy\n",
    "        model = gnb"
   ]
  },
  {
   "cell_type": "markdown",
   "metadata": {},
   "source": [
    "0.48 is not a good result thats sad :,("
   ]
  },
  {
   "cell_type": "markdown",
   "metadata": {},
   "source": [
    "#### **K-Nearest Neighbors : KNN**"
   ]
  },
  {
   "cell_type": "code",
   "execution_count": 9,
   "metadata": {},
   "outputs": [
    {
     "name": "stdout",
     "output_type": "stream",
     "text": [
      "Accuracy: 0.46\n"
     ]
    }
   ],
   "source": [
    "model = 0\n",
    "tampon = 0\n",
    "for i in range (1, 100):\n",
    "    # Create the KNN classifier\n",
    "    knn = KNeighborsClassifier(n_neighbors=1, weights='distance', metric='manhattan')\n",
    "\n",
    "    # Fit the classifier to the training data\n",
    "    knn.fit(X_train, y_train)\n",
    "\n",
    "    # Predict the labels for the test data\n",
    "    y_pred = knn.predict(X_test)\n",
    "\n",
    "    # Evaluate the accuracy of the classifier\n",
    "    accuracy = knn.score(X_test, y_test)\n",
    "    if accuracy > tampon:\n",
    "        print(\"Accuracy:\", accuracy)\n",
    "        tampon = accuracy\n",
    "        model = knn"
   ]
  },
  {
   "cell_type": "raw",
   "metadata": {
    "vscode": {
     "languageId": "raw"
    }
   },
   "source": [
    "model = 0\n",
    "tampon = 0\n",
    "for i in range (1, 100):\n",
    "    # Create the KNN classifier\n",
    "    knn = KNeighborsClassifier(n_neighbors=1, weights='distance', metric='manhattan')\n",
    "\n",
    "    # Fit the classifier to the training data\n",
    "    knn.fit(df_6_train, y_train)\n",
    "\n",
    "    # Predict the labels for the test data\n",
    "    y_pred = knn.predict(df_6_test)\n",
    "\n",
    "    # Evaluate the accuracy of the classifier\n",
    "    accuracy = knn.score(df_6_test, y_test)\n",
    "    if accuracy > tampon:\n",
    "        print(\"Accuracy:\", accuracy)\n",
    "        tampon = accuracy\n",
    "        model = knn"
   ]
  },
  {
   "cell_type": "markdown",
   "metadata": {},
   "source": [
    "0.5 is not good because there is a lot of bee and bumblebee so it just have to put only bee or bumblebee to have this result"
   ]
  },
  {
   "cell_type": "markdown",
   "metadata": {},
   "source": [
    "#### **Learning Vector Quantization : LVQ**"
   ]
  },
  {
   "cell_type": "markdown",
   "metadata": {},
   "source": [
    "Its a neural network so not in this part"
   ]
  },
  {
   "cell_type": "markdown",
   "metadata": {},
   "source": [
    "# **1 supervised ensemble learning method**"
   ]
  },
  {
   "cell_type": "markdown",
   "metadata": {},
   "source": [
    "#### **Random Forest Classifier**"
   ]
  },
  {
   "cell_type": "code",
   "execution_count": 10,
   "metadata": {},
   "outputs": [
    {
     "name": "stdout",
     "output_type": "stream",
     "text": [
      "Accuracy: 0.64\n",
      "Accuracy: 0.66\n"
     ]
    }
   ],
   "source": [
    "model = 0\n",
    "tampon = 0\n",
    "for i in range (1, 25):\n",
    "    # Create a Random Forest classifier\n",
    "    rf = RandomForestClassifier(n_estimators=200, max_depth=10, min_samples_split=10, min_samples_leaf=5, max_features='sqrt')\n",
    "\n",
    "    # Fit the classifier to the training data\n",
    "    rf.fit(X_train, y_train)\n",
    "\n",
    "    # Predict the labels of the test data\n",
    "    y_pred = rf.predict(X_test)\n",
    "\n",
    "    # Compute the accuracy of the classifier\n",
    "    accuracy = accuracy_score(y_test, y_pred)\n",
    "    if accuracy > tampon:\n",
    "        print(\"Accuracy:\", accuracy)\n",
    "        tampon = accuracy\n",
    "        model = rf"
   ]
  },
  {
   "cell_type": "raw",
   "metadata": {
    "vscode": {
     "languageId": "raw"
    }
   },
   "source": [
    "model = 0\n",
    "tampon = 0\n",
    "for i in range (1, 25):\n",
    "    # Create a Random Forest classifier\n",
    "    rf = RandomForestClassifier(n_estimators=200, max_depth=10, min_samples_split=10, min_samples_leaf=5, max_features='sqrt')\n",
    "\n",
    "    # Fit the classifier to the training data\n",
    "    rf.fit(df_6_train, y_train)\n",
    "\n",
    "    # Predict the labels of the test data\n",
    "    y_pred = rf.predict(df_6_test)\n",
    "\n",
    "    # Compute the accuracy of the classifier\n",
    "    accuracy = accuracy_score(y_test, y_pred)\n",
    "    if accuracy > tampon:\n",
    "        print(\"Accuracy:\", accuracy)\n",
    "        tampon = accuracy\n",
    "        model = rf"
   ]
  },
  {
   "cell_type": "markdown",
   "metadata": {},
   "source": [
    "0.7 is not that good of a result considering that we got 0.8 with just one tree before."
   ]
  },
  {
   "cell_type": "markdown",
   "metadata": {},
   "source": [
    "# **2 clustering methods**"
   ]
  },
  {
   "cell_type": "markdown",
   "metadata": {},
   "source": [
    "#### **K-MEANS**"
   ]
  },
  {
   "cell_type": "code",
   "execution_count": 14,
   "metadata": {},
   "outputs": [
    {
     "data": {
      "image/png": "[encoded data removed]",
      "text/plain": [
       "<Figure size 1000x500 with 2 Axes>"
      ]
     },
     "metadata": {},
     "output_type": "display_data"
    }
   ],
   "source": [
    "# Determine the number of unique labels\n",
    "num_clusters = len(np.unique(y_train))\n",
    "# Create a KMeans instance with num_clusters clusters\n",
    "kmeans = KMeans(n_clusters=num_clusters, random_state=0)\n",
    "# Fit model to the training data and predict the labels of the test data\n",
    "kmeans.fit(X_train_np)\n",
    "\n",
    "labels = kmeans.labels_\n",
    "plt.figure(figsize=(10, 5))\n",
    "plt.subplot(1, 2, 1)\n",
    "plt.scatter(X_train_np[:, 0], X_train_np[:, 1], c=labels)\n",
    "plt.title('Predicted Labels')\n",
    "plt.subplot(1, 2, 2)\n",
    "plt.scatter(X_train_np[:, 0], X_train_np[:, 1], c=y_train_np)\n",
    "plt.title('Actual Labels')\n",
    "plt.show()\n"
   ]
  },
  {
   "cell_type": "code",
   "execution_count": 15,
   "metadata": {},
   "outputs": [
    {
     "name": "stdout",
     "output_type": "stream",
     "text": [
      "Accuracy: 0.0\n"
     ]
    },
    {
     "name": "stderr",
     "output_type": "stream",
     "text": [
      "C:\\Users\\Romain Chevrollier\\AppData\\Local\\Packages\\PythonSoftwareFoundation.Python.3.11_qbz5n2kfra8p0\\LocalCache\\local-packages\\Python311\\site-packages\\sklearn\\base.py:486: UserWarning: X has feature names, but KMeans was fitted without feature names\n",
      "  warnings.warn(\n"
     ]
    }
   ],
   "source": [
    "y_pred_train = kmeans.predict(X_train)\n",
    "# Map the cluster labels to the actual labels\n",
    "labels = np.zeros_like(y_pred_train)\n",
    "for i in range(num_clusters):\n",
    "    mask = (y_pred_train == i)\n",
    "    labels[mask] = mode(y_train_np[mask])[0]\n",
    "\n",
    "# Compute the accuracy\n",
    "accuracy = accuracy_score(y_train, labels)\n",
    "print('Accuracy:', accuracy)"
   ]
  },
  {
   "cell_type": "code",
   "execution_count": 16,
   "metadata": {},
   "outputs": [
    {
     "name": "stdout",
     "output_type": "stream",
     "text": [
      "Adjusted Rand index: 0.03357311996958593\n"
     ]
    }
   ],
   "source": [
    "ari = adjusted_rand_score(y_train_np, y_pred_train)\n",
    "print('Adjusted Rand index:', ari)"
   ]
  },
  {
   "cell_type": "code",
   "execution_count": 17,
   "metadata": {},
   "outputs": [
    {
     "name": "stderr",
     "output_type": "stream",
     "text": [
      "C:\\Users\\Romain Chevrollier\\AppData\\Local\\Packages\\PythonSoftwareFoundation.Python.3.11_qbz5n2kfra8p0\\LocalCache\\local-packages\\Python311\\site-packages\\sklearn\\base.py:486: UserWarning: X has feature names, but KMeans was fitted without feature names\n",
      "  warnings.warn(\n"
     ]
    },
    {
     "data": {
      "image/png": "[encoded data removed]",
      "text/plain": [
       "<Figure size 1000x500 with 2 Axes>"
      ]
     },
     "metadata": {},
     "output_type": "display_data"
    },
    {
     "name": "stdout",
     "output_type": "stream",
     "text": [
      "Adjusted Rand index: -0.009539989545216936\n"
     ]
    }
   ],
   "source": [
    "y_pred = kmeans.predict(X_test)\n",
    "plt.figure(figsize=(10, 5))\n",
    "plt.subplot(1, 2, 1)\n",
    "plt.scatter(X_test_np[:, 0], X_test_np[:, 1], c=y_pred)\n",
    "plt.title('Predicted Labels')\n",
    "plt.subplot(1, 2, 2)\n",
    "plt.scatter(X_test_np[:, 0], X_test_np[:, 1], c=y_test_np)\n",
    "plt.title('Actual Labels')\n",
    "plt.show()\n",
    "\n",
    "ari = adjusted_rand_score(y_test_np, y_pred)\n",
    "print('Adjusted Rand index:', ari)"
   ]
  },
  {
   "cell_type": "markdown",
   "metadata": {},
   "source": [
    "#### **MEANSHIFT**"
   ]
  },
  {
   "cell_type": "code",
   "execution_count": 18,
   "metadata": {},
   "outputs": [
    {
     "data": {
      "image/png": "[encoded data removed]",
      "text/plain": [
       "<Figure size 1000x500 with 2 Axes>"
      ]
     },
     "metadata": {},
     "output_type": "display_data"
    },
    {
     "name": "stdout",
     "output_type": "stream",
     "text": [
      "Adjusted Rand index: 0.038428703261110794\n"
     ]
    }
   ],
   "source": [
    "# Create the MeanShift object\n",
    "ms = MeanShift()\n",
    "\n",
    "# Fit the model to the training data\n",
    "ms.fit(X_train_np)\n",
    "\n",
    "# Get the cluster labels for each data point\n",
    "labels = ms.labels_\n",
    "\n",
    "plt.figure(figsize=(10, 5))\n",
    "plt.subplot(1, 2, 1)\n",
    "plt.scatter(X_train_np[:, 0], X_train_np[:, 1], c=labels)\n",
    "plt.title('Predicted Labels')\n",
    "plt.subplot(1, 2, 2)\n",
    "plt.scatter(X_train_np[:, 0], X_train_np[:, 1], c=y_train_np)\n",
    "plt.title('Actual Labels')\n",
    "plt.show()\n",
    "\n",
    "ari = adjusted_rand_score(y_train_np, labels)\n",
    "print('Adjusted Rand index:', ari)"
   ]
  },
  {
   "cell_type": "markdown",
   "metadata": {},
   "source": [
    "#### **KERNEL DENSITY**"
   ]
  },
  {
   "cell_type": "code",
   "execution_count": 19,
   "metadata": {},
   "outputs": [
    {
     "data": {
      "image/png": "[encoded data removed]",
      "text/plain": [
       "<Figure size 640x480 with 1 Axes>"
      ]
     },
     "metadata": {},
     "output_type": "display_data"
    }
   ],
   "source": [
    "# Create an instance of KernelDensity with a specific kernel and bandwidth\n",
    "kde = KernelDensity(kernel='gaussian', bandwidth=100)\n",
    "\n",
    "# Fit the kernel density estimator to the data\n",
    "kde.fit(X_train_np)\n",
    "X1_density = np.exp(kde.score_samples(X_train_np))\n",
    "plt.scatter(X_train_np[:, 0], X_train_np[:, 1], c=X1_density)\n",
    "plt.title('Predicted Labels')\n",
    "plt.show()"
   ]
  },
  {
   "cell_type": "markdown",
   "metadata": {},
   "source": [
    "Not enough samples so results are trash"
   ]
  },
  {
   "cell_type": "markdown",
   "metadata": {},
   "source": [
    "# **1 supervised neural network using your own features**"
   ]
  },
  {
   "cell_type": "code",
   "execution_count": 20,
   "metadata": {},
   "outputs": [
    {
     "data": {
      "image/png": "[encoded data removed]",
      "text/plain": [
       "<Figure size 640x480 with 1 Axes>"
      ]
     },
     "metadata": {},
     "output_type": "display_data"
    }
   ],
   "source": [
    "pca = PCA().fit(X_train_np)\n",
    "\n",
    "# Plot the explained variance ratio\n",
    "plt.figure()\n",
    "plt.plot(np.cumsum(pca.explained_variance_ratio_))\n",
    "plt.xlabel('Number of Components')\n",
    "plt.ylabel('Cumulative Explained Variance')\n",
    "plt.show()"
   ]
  },
  {
   "cell_type": "code",
   "execution_count": 21,
   "metadata": {},
   "outputs": [],
   "source": [
    "pca = PCA(n_components=5)\n",
    "X_train_np_pca = pca.fit_transform(X_stand_train)\n",
    "X_test_np_pca = pca.transform(X_stand_test)"
   ]
  },
  {
   "cell_type": "code",
   "execution_count": 22,
   "metadata": {},
   "outputs": [],
   "source": [
    "\n",
    "\n",
    "num_units = len(np.unique(y_train))"
   ]
  },
  {
   "cell_type": "code",
   "execution_count": 116,
   "metadata": {},
   "outputs": [],
   "source": [
    "def create_model(num_unit = num_units, neurons_1=1,neurons_2=1, dropout_rate_1=0.0, dropout_rate_2=0.0):\n",
    "    model = tf.keras.Sequential()\n",
    "    model.add(tf.keras.layers.Dense(neurons_1, input_dim=20, activation='relu'))\n",
    "    model.add(tf.keras.layers.Dropout(dropout_rate_1))\n",
    "    model.add(tf.keras.layers.Dense(neurons_2, activation='relu'))\n",
    "    model.add(tf.keras.layers.Dropout(dropout_rate_2))\n",
    "    model.add(tf.keras.layers.Dense(num_unit, activation='linear'))\n",
    "    model.compile(loss=tf.keras.losses.SparseCategoricalCrossentropy(from_logits=True), optimizer='adam', metrics=['accuracy'])\n",
    "    return model\n",
    "\n",
    "model = KerasClassifier(build_fn=create_model, epochs=1000, batch_size=10, verbose=0, dropout_rate_1=0.0, dropout_rate_2=0.0, neurons_1=1, neurons_2=1)\n",
    "\n",
    "neurons_1 = list(range(1, 32))\n",
    "neurons_2 = list(range(1, 32))\n",
    "dropout_rate_1 = [0.0, 0.1, 0.2, 0.3, 0.4, 0.5, 0.6, 0.7, 0.8, 0.9]\n",
    "dropout_rate_2 = [0.0, 0.1, 0.2, 0.3, 0.4, 0.5, 0.6, 0.7, 0.8, 0.9]\n",
    "l2_reg = [0.0, 0.01, 0.1, 0.2, 0.3, 0.4, 0.5]\n",
    "param_grid = dict(neurons_1=neurons_1, neurons_2=neurons_2, dropout_rate_1=dropout_rate_1, dropout_rate_2=dropout_rate_2)\n",
    "\n",
    "early_stopping = tf.keras.callbacks.EarlyStopping(monitor='val_loss', patience=10, restore_best_weights=True)"
   ]
  },
  {
   "cell_type": "raw",
   "metadata": {
    "vscode": {
     "languageId": "raw"
    }
   },
   "source": [
    "grid = GridSearchCV(estimator=model, param_grid=param_grid, n_jobs=-1, cv=3)\n",
    "grid_result = grid.fit(X_stand_train, y_train_np)"
   ]
  },
  {
   "cell_type": "raw",
   "metadata": {
    "vscode": {
     "languageId": "raw"
    }
   },
   "source": [
    "best_model = grid_result.best_estimator_\n",
    "predictions = best_model.predict(X_stand_train)\n",
    "comparison_train = (predictions == y_train_np)\n",
    "accuracy_train = np.mean(comparison_train)\n",
    "print(\"Accuracy on train data:\", accuracy_train)"
   ]
  },
  {
   "cell_type": "raw",
   "metadata": {
    "vscode": {
     "languageId": "raw"
    }
   },
   "source": [
    "predictions = best_model.predict(X_stand_test)\n",
    "comparison_train = (predictions == y_test_np)\n",
    "accuracy_train = np.mean(comparison_train)\n",
    "print(\"Accuracy on train data:\", accuracy_train)"
   ]
  },
  {
   "cell_type": "code",
   "execution_count": 121,
   "metadata": {},
   "outputs": [
    {
     "name": "stdout",
     "output_type": "stream",
     "text": [
      "Fitting 5 folds for each of 50 candidates, totalling 250 fits\n"
     ]
    },
    {
     "ename": "KeyboardInterrupt",
     "evalue": "",
     "output_type": "error",
     "traceback": [
      "\u001b[1;31m---------------------------------------------------------------------------\u001b[0m",
      "\u001b[1;31mKeyboardInterrupt\u001b[0m                         Traceback (most recent call last)",
      "Cell \u001b[1;32mIn[121], line 2\u001b[0m\n\u001b[0;32m      1\u001b[0m random \u001b[38;5;241m=\u001b[39m RandomizedSearchCV(estimator\u001b[38;5;241m=\u001b[39mmodel, param_distributions\u001b[38;5;241m=\u001b[39mparam_grid, n_jobs\u001b[38;5;241m=\u001b[39m\u001b[38;5;241m-\u001b[39m\u001b[38;5;241m1\u001b[39m, cv\u001b[38;5;241m=\u001b[39m\u001b[38;5;241m5\u001b[39m, n_iter\u001b[38;5;241m=\u001b[39m\u001b[38;5;241m50\u001b[39m, verbose\u001b[38;5;241m=\u001b[39m\u001b[38;5;241m2\u001b[39m)\n\u001b[1;32m----> 2\u001b[0m random_result \u001b[38;5;241m=\u001b[39m \u001b[43mrandom\u001b[49m\u001b[38;5;241;43m.\u001b[39;49m\u001b[43mfit\u001b[49m\u001b[43m(\u001b[49m\u001b[43mX_stand_train\u001b[49m\u001b[43m,\u001b[49m\u001b[43m \u001b[49m\u001b[43my_train_np\u001b[49m\u001b[43m,\u001b[49m\u001b[43m \u001b[49m\u001b[43mvalidation_data\u001b[49m\u001b[38;5;241;43m=\u001b[39;49m\u001b[43m(\u001b[49m\u001b[43mX_stand_val\u001b[49m\u001b[43m,\u001b[49m\u001b[43m \u001b[49m\u001b[43my_val_np\u001b[49m\u001b[43m)\u001b[49m\u001b[43m,\u001b[49m\u001b[43m \u001b[49m\u001b[43mcallbacks\u001b[49m\u001b[38;5;241;43m=\u001b[39;49m\u001b[43m[\u001b[49m\u001b[43mearly_stopping\u001b[49m\u001b[43m]\u001b[49m\u001b[43m)\u001b[49m\n",
      "File \u001b[1;32m~\\AppData\\Local\\Packages\\PythonSoftwareFoundation.Python.3.11_qbz5n2kfra8p0\\LocalCache\\local-packages\\Python311\\site-packages\\sklearn\\base.py:1474\u001b[0m, in \u001b[0;36m_fit_context.<locals>.decorator.<locals>.wrapper\u001b[1;34m(estimator, *args, **kwargs)\u001b[0m\n\u001b[0;32m   1467\u001b[0m     estimator\u001b[38;5;241m.\u001b[39m_validate_params()\n\u001b[0;32m   1469\u001b[0m \u001b[38;5;28;01mwith\u001b[39;00m config_context(\n\u001b[0;32m   1470\u001b[0m     skip_parameter_validation\u001b[38;5;241m=\u001b[39m(\n\u001b[0;32m   1471\u001b[0m         prefer_skip_nested_validation \u001b[38;5;129;01mor\u001b[39;00m global_skip_validation\n\u001b[0;32m   1472\u001b[0m     )\n\u001b[0;32m   1473\u001b[0m ):\n\u001b[1;32m-> 1474\u001b[0m     \u001b[38;5;28;01mreturn\u001b[39;00m \u001b[43mfit_method\u001b[49m\u001b[43m(\u001b[49m\u001b[43mestimator\u001b[49m\u001b[43m,\u001b[49m\u001b[43m \u001b[49m\u001b[38;5;241;43m*\u001b[39;49m\u001b[43margs\u001b[49m\u001b[43m,\u001b[49m\u001b[43m \u001b[49m\u001b[38;5;241;43m*\u001b[39;49m\u001b[38;5;241;43m*\u001b[39;49m\u001b[43mkwargs\u001b[49m\u001b[43m)\u001b[49m\n",
      "File \u001b[1;32m~\\AppData\\Local\\Packages\\PythonSoftwareFoundation.Python.3.11_qbz5n2kfra8p0\\LocalCache\\local-packages\\Python311\\site-packages\\sklearn\\model_selection\\_search.py:970\u001b[0m, in \u001b[0;36mBaseSearchCV.fit\u001b[1;34m(self, X, y, **params)\u001b[0m\n\u001b[0;32m    964\u001b[0m     results \u001b[38;5;241m=\u001b[39m \u001b[38;5;28mself\u001b[39m\u001b[38;5;241m.\u001b[39m_format_results(\n\u001b[0;32m    965\u001b[0m         all_candidate_params, n_splits, all_out, all_more_results\n\u001b[0;32m    966\u001b[0m     )\n\u001b[0;32m    968\u001b[0m     \u001b[38;5;28;01mreturn\u001b[39;00m results\n\u001b[1;32m--> 970\u001b[0m \u001b[38;5;28;43mself\u001b[39;49m\u001b[38;5;241;43m.\u001b[39;49m\u001b[43m_run_search\u001b[49m\u001b[43m(\u001b[49m\u001b[43mevaluate_candidates\u001b[49m\u001b[43m)\u001b[49m\n\u001b[0;32m    972\u001b[0m \u001b[38;5;66;03m# multimetric is determined here because in the case of a callable\u001b[39;00m\n\u001b[0;32m    973\u001b[0m \u001b[38;5;66;03m# self.scoring the return type is only known after calling\u001b[39;00m\n\u001b[0;32m    974\u001b[0m first_test_score \u001b[38;5;241m=\u001b[39m all_out[\u001b[38;5;241m0\u001b[39m][\u001b[38;5;124m\"\u001b[39m\u001b[38;5;124mtest_scores\u001b[39m\u001b[38;5;124m\"\u001b[39m]\n",
      "File \u001b[1;32m~\\AppData\\Local\\Packages\\PythonSoftwareFoundation.Python.3.11_qbz5n2kfra8p0\\LocalCache\\local-packages\\Python311\\site-packages\\sklearn\\model_selection\\_search.py:1914\u001b[0m, in \u001b[0;36mRandomizedSearchCV._run_search\u001b[1;34m(self, evaluate_candidates)\u001b[0m\n\u001b[0;32m   1912\u001b[0m \u001b[38;5;28;01mdef\u001b[39;00m \u001b[38;5;21m_run_search\u001b[39m(\u001b[38;5;28mself\u001b[39m, evaluate_candidates):\n\u001b[0;32m   1913\u001b[0m \u001b[38;5;250m    \u001b[39m\u001b[38;5;124;03m\"\"\"Search n_iter candidates from param_distributions\"\"\"\u001b[39;00m\n\u001b[1;32m-> 1914\u001b[0m     \u001b[43mevaluate_candidates\u001b[49m\u001b[43m(\u001b[49m\n\u001b[0;32m   1915\u001b[0m \u001b[43m        \u001b[49m\u001b[43mParameterSampler\u001b[49m\u001b[43m(\u001b[49m\n\u001b[0;32m   1916\u001b[0m \u001b[43m            \u001b[49m\u001b[38;5;28;43mself\u001b[39;49m\u001b[38;5;241;43m.\u001b[39;49m\u001b[43mparam_distributions\u001b[49m\u001b[43m,\u001b[49m\u001b[43m \u001b[49m\u001b[38;5;28;43mself\u001b[39;49m\u001b[38;5;241;43m.\u001b[39;49m\u001b[43mn_iter\u001b[49m\u001b[43m,\u001b[49m\u001b[43m \u001b[49m\u001b[43mrandom_state\u001b[49m\u001b[38;5;241;43m=\u001b[39;49m\u001b[38;5;28;43mself\u001b[39;49m\u001b[38;5;241;43m.\u001b[39;49m\u001b[43mrandom_state\u001b[49m\n\u001b[0;32m   1917\u001b[0m \u001b[43m        \u001b[49m\u001b[43m)\u001b[49m\n\u001b[0;32m   1918\u001b[0m \u001b[43m    \u001b[49m\u001b[43m)\u001b[49m\n",
      "File \u001b[1;32m~\\AppData\\Local\\Packages\\PythonSoftwareFoundation.Python.3.11_qbz5n2kfra8p0\\LocalCache\\local-packages\\Python311\\site-packages\\sklearn\\model_selection\\_search.py:916\u001b[0m, in \u001b[0;36mBaseSearchCV.fit.<locals>.evaluate_candidates\u001b[1;34m(candidate_params, cv, more_results)\u001b[0m\n\u001b[0;32m    908\u001b[0m \u001b[38;5;28;01mif\u001b[39;00m \u001b[38;5;28mself\u001b[39m\u001b[38;5;241m.\u001b[39mverbose \u001b[38;5;241m>\u001b[39m \u001b[38;5;241m0\u001b[39m:\n\u001b[0;32m    909\u001b[0m     \u001b[38;5;28mprint\u001b[39m(\n\u001b[0;32m    910\u001b[0m         \u001b[38;5;124m\"\u001b[39m\u001b[38;5;124mFitting \u001b[39m\u001b[38;5;132;01m{0}\u001b[39;00m\u001b[38;5;124m folds for each of \u001b[39m\u001b[38;5;132;01m{1}\u001b[39;00m\u001b[38;5;124m candidates,\u001b[39m\u001b[38;5;124m\"\u001b[39m\n\u001b[0;32m    911\u001b[0m         \u001b[38;5;124m\"\u001b[39m\u001b[38;5;124m totalling \u001b[39m\u001b[38;5;132;01m{2}\u001b[39;00m\u001b[38;5;124m fits\u001b[39m\u001b[38;5;124m\"\u001b[39m\u001b[38;5;241m.\u001b[39mformat(\n\u001b[0;32m    912\u001b[0m             n_splits, n_candidates, n_candidates \u001b[38;5;241m*\u001b[39m n_splits\n\u001b[0;32m    913\u001b[0m         )\n\u001b[0;32m    914\u001b[0m     )\n\u001b[1;32m--> 916\u001b[0m out \u001b[38;5;241m=\u001b[39m \u001b[43mparallel\u001b[49m\u001b[43m(\u001b[49m\n\u001b[0;32m    917\u001b[0m \u001b[43m    \u001b[49m\u001b[43mdelayed\u001b[49m\u001b[43m(\u001b[49m\u001b[43m_fit_and_score\u001b[49m\u001b[43m)\u001b[49m\u001b[43m(\u001b[49m\n\u001b[0;32m    918\u001b[0m \u001b[43m        \u001b[49m\u001b[43mclone\u001b[49m\u001b[43m(\u001b[49m\u001b[43mbase_estimator\u001b[49m\u001b[43m)\u001b[49m\u001b[43m,\u001b[49m\n\u001b[0;32m    919\u001b[0m \u001b[43m        \u001b[49m\u001b[43mX\u001b[49m\u001b[43m,\u001b[49m\n\u001b[0;32m    920\u001b[0m \u001b[43m        \u001b[49m\u001b[43my\u001b[49m\u001b[43m,\u001b[49m\n\u001b[0;32m    921\u001b[0m \u001b[43m        \u001b[49m\u001b[43mtrain\u001b[49m\u001b[38;5;241;43m=\u001b[39;49m\u001b[43mtrain\u001b[49m\u001b[43m,\u001b[49m\n\u001b[0;32m    922\u001b[0m \u001b[43m        \u001b[49m\u001b[43mtest\u001b[49m\u001b[38;5;241;43m=\u001b[39;49m\u001b[43mtest\u001b[49m\u001b[43m,\u001b[49m\n\u001b[0;32m    923\u001b[0m \u001b[43m        \u001b[49m\u001b[43mparameters\u001b[49m\u001b[38;5;241;43m=\u001b[39;49m\u001b[43mparameters\u001b[49m\u001b[43m,\u001b[49m\n\u001b[0;32m    924\u001b[0m \u001b[43m        \u001b[49m\u001b[43msplit_progress\u001b[49m\u001b[38;5;241;43m=\u001b[39;49m\u001b[43m(\u001b[49m\u001b[43msplit_idx\u001b[49m\u001b[43m,\u001b[49m\u001b[43m \u001b[49m\u001b[43mn_splits\u001b[49m\u001b[43m)\u001b[49m\u001b[43m,\u001b[49m\n\u001b[0;32m    925\u001b[0m \u001b[43m        \u001b[49m\u001b[43mcandidate_progress\u001b[49m\u001b[38;5;241;43m=\u001b[39;49m\u001b[43m(\u001b[49m\u001b[43mcand_idx\u001b[49m\u001b[43m,\u001b[49m\u001b[43m \u001b[49m\u001b[43mn_candidates\u001b[49m\u001b[43m)\u001b[49m\u001b[43m,\u001b[49m\n\u001b[0;32m    926\u001b[0m \u001b[43m        \u001b[49m\u001b[38;5;241;43m*\u001b[39;49m\u001b[38;5;241;43m*\u001b[39;49m\u001b[43mfit_and_score_kwargs\u001b[49m\u001b[43m,\u001b[49m\n\u001b[0;32m    927\u001b[0m \u001b[43m    \u001b[49m\u001b[43m)\u001b[49m\n\u001b[0;32m    928\u001b[0m \u001b[43m    \u001b[49m\u001b[38;5;28;43;01mfor\u001b[39;49;00m\u001b[43m \u001b[49m\u001b[43m(\u001b[49m\u001b[43mcand_idx\u001b[49m\u001b[43m,\u001b[49m\u001b[43m \u001b[49m\u001b[43mparameters\u001b[49m\u001b[43m)\u001b[49m\u001b[43m,\u001b[49m\u001b[43m \u001b[49m\u001b[43m(\u001b[49m\u001b[43msplit_idx\u001b[49m\u001b[43m,\u001b[49m\u001b[43m \u001b[49m\u001b[43m(\u001b[49m\u001b[43mtrain\u001b[49m\u001b[43m,\u001b[49m\u001b[43m \u001b[49m\u001b[43mtest\u001b[49m\u001b[43m)\u001b[49m\u001b[43m)\u001b[49m\u001b[43m \u001b[49m\u001b[38;5;129;43;01min\u001b[39;49;00m\u001b[43m \u001b[49m\u001b[43mproduct\u001b[49m\u001b[43m(\u001b[49m\n\u001b[0;32m    929\u001b[0m \u001b[43m        \u001b[49m\u001b[38;5;28;43menumerate\u001b[39;49m\u001b[43m(\u001b[49m\u001b[43mcandidate_params\u001b[49m\u001b[43m)\u001b[49m\u001b[43m,\u001b[49m\n\u001b[0;32m    930\u001b[0m \u001b[43m        \u001b[49m\u001b[38;5;28;43menumerate\u001b[39;49m\u001b[43m(\u001b[49m\u001b[43mcv\u001b[49m\u001b[38;5;241;43m.\u001b[39;49m\u001b[43msplit\u001b[49m\u001b[43m(\u001b[49m\u001b[43mX\u001b[49m\u001b[43m,\u001b[49m\u001b[43m \u001b[49m\u001b[43my\u001b[49m\u001b[43m,\u001b[49m\u001b[43m \u001b[49m\u001b[38;5;241;43m*\u001b[39;49m\u001b[38;5;241;43m*\u001b[39;49m\u001b[43mrouted_params\u001b[49m\u001b[38;5;241;43m.\u001b[39;49m\u001b[43msplitter\u001b[49m\u001b[38;5;241;43m.\u001b[39;49m\u001b[43msplit\u001b[49m\u001b[43m)\u001b[49m\u001b[43m)\u001b[49m\u001b[43m,\u001b[49m\n\u001b[0;32m    931\u001b[0m \u001b[43m    \u001b[49m\u001b[43m)\u001b[49m\n\u001b[0;32m    932\u001b[0m \u001b[43m\u001b[49m\u001b[43m)\u001b[49m\n\u001b[0;32m    934\u001b[0m \u001b[38;5;28;01mif\u001b[39;00m \u001b[38;5;28mlen\u001b[39m(out) \u001b[38;5;241m<\u001b[39m \u001b[38;5;241m1\u001b[39m:\n\u001b[0;32m    935\u001b[0m     \u001b[38;5;28;01mraise\u001b[39;00m \u001b[38;5;167;01mValueError\u001b[39;00m(\n\u001b[0;32m    936\u001b[0m         \u001b[38;5;124m\"\u001b[39m\u001b[38;5;124mNo fits were performed. \u001b[39m\u001b[38;5;124m\"\u001b[39m\n\u001b[0;32m    937\u001b[0m         \u001b[38;5;124m\"\u001b[39m\u001b[38;5;124mWas the CV iterator empty? \u001b[39m\u001b[38;5;124m\"\u001b[39m\n\u001b[0;32m    938\u001b[0m         \u001b[38;5;124m\"\u001b[39m\u001b[38;5;124mWere there no candidates?\u001b[39m\u001b[38;5;124m\"\u001b[39m\n\u001b[0;32m    939\u001b[0m     )\n",
      "File \u001b[1;32m~\\AppData\\Local\\Packages\\PythonSoftwareFoundation.Python.3.11_qbz5n2kfra8p0\\LocalCache\\local-packages\\Python311\\site-packages\\sklearn\\utils\\parallel.py:67\u001b[0m, in \u001b[0;36mParallel.__call__\u001b[1;34m(self, iterable)\u001b[0m\n\u001b[0;32m     62\u001b[0m config \u001b[38;5;241m=\u001b[39m get_config()\n\u001b[0;32m     63\u001b[0m iterable_with_config \u001b[38;5;241m=\u001b[39m (\n\u001b[0;32m     64\u001b[0m     (_with_config(delayed_func, config), args, kwargs)\n\u001b[0;32m     65\u001b[0m     \u001b[38;5;28;01mfor\u001b[39;00m delayed_func, args, kwargs \u001b[38;5;129;01min\u001b[39;00m iterable\n\u001b[0;32m     66\u001b[0m )\n\u001b[1;32m---> 67\u001b[0m \u001b[38;5;28;01mreturn\u001b[39;00m \u001b[38;5;28;43msuper\u001b[39;49m\u001b[43m(\u001b[49m\u001b[43m)\u001b[49m\u001b[38;5;241;43m.\u001b[39;49m\u001b[38;5;21;43m__call__\u001b[39;49m\u001b[43m(\u001b[49m\u001b[43miterable_with_config\u001b[49m\u001b[43m)\u001b[49m\n",
      "File \u001b[1;32m~\\AppData\\Local\\Packages\\PythonSoftwareFoundation.Python.3.11_qbz5n2kfra8p0\\LocalCache\\local-packages\\Python311\\site-packages\\joblib\\parallel.py:1952\u001b[0m, in \u001b[0;36mParallel.__call__\u001b[1;34m(self, iterable)\u001b[0m\n\u001b[0;32m   1946\u001b[0m \u001b[38;5;66;03m# The first item from the output is blank, but it makes the interpreter\u001b[39;00m\n\u001b[0;32m   1947\u001b[0m \u001b[38;5;66;03m# progress until it enters the Try/Except block of the generator and\u001b[39;00m\n\u001b[0;32m   1948\u001b[0m \u001b[38;5;66;03m# reach the first `yield` statement. This starts the aynchronous\u001b[39;00m\n\u001b[0;32m   1949\u001b[0m \u001b[38;5;66;03m# dispatch of the tasks to the workers.\u001b[39;00m\n\u001b[0;32m   1950\u001b[0m \u001b[38;5;28mnext\u001b[39m(output)\n\u001b[1;32m-> 1952\u001b[0m \u001b[38;5;28;01mreturn\u001b[39;00m output \u001b[38;5;28;01mif\u001b[39;00m \u001b[38;5;28mself\u001b[39m\u001b[38;5;241m.\u001b[39mreturn_generator \u001b[38;5;28;01melse\u001b[39;00m \u001b[38;5;28mlist\u001b[39m(output)\n",
      "File \u001b[1;32m~\\AppData\\Local\\Packages\\PythonSoftwareFoundation.Python.3.11_qbz5n2kfra8p0\\LocalCache\\local-packages\\Python311\\site-packages\\joblib\\parallel.py:1595\u001b[0m, in \u001b[0;36mParallel._get_outputs\u001b[1;34m(self, iterator, pre_dispatch)\u001b[0m\n\u001b[0;32m   1592\u001b[0m     \u001b[38;5;28;01myield\u001b[39;00m\n\u001b[0;32m   1594\u001b[0m     \u001b[38;5;28;01mwith\u001b[39;00m \u001b[38;5;28mself\u001b[39m\u001b[38;5;241m.\u001b[39m_backend\u001b[38;5;241m.\u001b[39mretrieval_context():\n\u001b[1;32m-> 1595\u001b[0m         \u001b[38;5;28;01myield from\u001b[39;00m \u001b[38;5;28mself\u001b[39m\u001b[38;5;241m.\u001b[39m_retrieve()\n\u001b[0;32m   1597\u001b[0m \u001b[38;5;28;01mexcept\u001b[39;00m \u001b[38;5;167;01mGeneratorExit\u001b[39;00m:\n\u001b[0;32m   1598\u001b[0m     \u001b[38;5;66;03m# The generator has been garbage collected before being fully\u001b[39;00m\n\u001b[0;32m   1599\u001b[0m     \u001b[38;5;66;03m# consumed. This aborts the remaining tasks if possible and warn\u001b[39;00m\n\u001b[0;32m   1600\u001b[0m     \u001b[38;5;66;03m# the user if necessary.\u001b[39;00m\n\u001b[0;32m   1601\u001b[0m     \u001b[38;5;28mself\u001b[39m\u001b[38;5;241m.\u001b[39m_exception \u001b[38;5;241m=\u001b[39m \u001b[38;5;28;01mTrue\u001b[39;00m\n",
      "File \u001b[1;32m~\\AppData\\Local\\Packages\\PythonSoftwareFoundation.Python.3.11_qbz5n2kfra8p0\\LocalCache\\local-packages\\Python311\\site-packages\\joblib\\parallel.py:1707\u001b[0m, in \u001b[0;36mParallel._retrieve\u001b[1;34m(self)\u001b[0m\n\u001b[0;32m   1702\u001b[0m \u001b[38;5;66;03m# If the next job is not ready for retrieval yet, we just wait for\u001b[39;00m\n\u001b[0;32m   1703\u001b[0m \u001b[38;5;66;03m# async callbacks to progress.\u001b[39;00m\n\u001b[0;32m   1704\u001b[0m \u001b[38;5;28;01mif\u001b[39;00m ((\u001b[38;5;28mlen\u001b[39m(\u001b[38;5;28mself\u001b[39m\u001b[38;5;241m.\u001b[39m_jobs) \u001b[38;5;241m==\u001b[39m \u001b[38;5;241m0\u001b[39m) \u001b[38;5;129;01mor\u001b[39;00m\n\u001b[0;32m   1705\u001b[0m     (\u001b[38;5;28mself\u001b[39m\u001b[38;5;241m.\u001b[39m_jobs[\u001b[38;5;241m0\u001b[39m]\u001b[38;5;241m.\u001b[39mget_status(\n\u001b[0;32m   1706\u001b[0m         timeout\u001b[38;5;241m=\u001b[39m\u001b[38;5;28mself\u001b[39m\u001b[38;5;241m.\u001b[39mtimeout) \u001b[38;5;241m==\u001b[39m TASK_PENDING)):\n\u001b[1;32m-> 1707\u001b[0m     time\u001b[38;5;241m.\u001b[39msleep(\u001b[38;5;241m0.01\u001b[39m)\n\u001b[0;32m   1708\u001b[0m     \u001b[38;5;28;01mcontinue\u001b[39;00m\n\u001b[0;32m   1710\u001b[0m \u001b[38;5;66;03m# We need to be careful: the job list can be filling up as\u001b[39;00m\n\u001b[0;32m   1711\u001b[0m \u001b[38;5;66;03m# we empty it and Python list are not thread-safe by\u001b[39;00m\n\u001b[0;32m   1712\u001b[0m \u001b[38;5;66;03m# default hence the use of the lock\u001b[39;00m\n",
      "\u001b[1;31mKeyboardInterrupt\u001b[0m: "
     ]
    }
   ],
   "source": [
    "random = RandomizedSearchCV(estimator=model, param_distributions=param_grid, n_jobs=-1, cv=5, n_iter=50, verbose=2)\n",
    "random_result = random.fit(X_stand_train, y_train_np, validation_data=(X_stand_val, y_val_np), callbacks=[early_stopping])"
   ]
  },
  {
   "cell_type": "code",
   "execution_count": 118,
   "metadata": {},
   "outputs": [
    {
     "name": "stdout",
     "output_type": "stream",
     "text": [
      "Accuracy on train data: 0.9530201342281879\n"
     ]
    }
   ],
   "source": [
    "best_model = random_result.best_estimator_\n",
    "predictions = best_model.predict(X_stand_train)\n",
    "comparison_train = (predictions == y_train_np)\n",
    "accuracy_train = np.mean(comparison_train)\n",
    "print(\"Accuracy on train data:\", accuracy_train)"
   ]
  },
  {
   "cell_type": "code",
   "execution_count": 119,
   "metadata": {},
   "outputs": [
    {
     "name": "stdout",
     "output_type": "stream",
     "text": [
      "Accuracy on train data: 0.54\n"
     ]
    }
   ],
   "source": [
    "predictions = best_model.predict(X_stand_test)\n",
    "comparison_train = (predictions == y_test_np)\n",
    "accuracy_train = np.mean(comparison_train)\n",
    "print(\"Accuracy on train data:\", accuracy_train)"
   ]
  },
  {
   "cell_type": "code",
   "execution_count": 120,
   "metadata": {},
   "outputs": [
    {
     "name": "stdout",
     "output_type": "stream",
     "text": [
      "{'neurons_2': 6, 'neurons_1': 27, 'dropout_rate_2': 0.7, 'dropout_rate_1': 0.0}\n"
     ]
    }
   ],
   "source": [
    "best_params = random_result.best_params_\n",
    "print(best_params)"
   ]
  },
  {
   "cell_type": "code",
   "execution_count": 31,
   "metadata": {},
   "outputs": [],
   "source": [
    "# # Define the model architecture\n",
    "# # leaky_ReLU = tf.keras.layers.LeakyReLU(alpha=0.1)\n",
    "# model = tf.keras.Sequential([\n",
    "#     tf.keras.layers.Dense(17, activation='relu', input_shape=(20,)),  # Fix: Pass input_shape as a tuple\n",
    "#     tf.keras.layers.Dropout(0.2),\n",
    "#     tf.keras.layers.Dense(17, activation='relu',),\n",
    "#     tf.keras.layers.Dense(num_units, activation='linear', kernel_regularizer=tf.keras.regularizers.l2(0.01))\n",
    "# ])\n",
    "\n",
    "# # Compile the model\n",
    "# optimizer = tf.keras.optimizers.Adam(learning_rate=0.001)\n",
    "# model.compile(optimizer=optimizer,\n",
    "#               loss=tf.keras.losses.SparseCategoricalCrossentropy(from_logits=True),\n",
    "#               metrics=['accuracy'])\n",
    "\n",
    "# # Define early stopping\n",
    "# early_stopping = tf.keras.callbacks.EarlyStopping(monitor='val_loss', patience=250)\n",
    "# # callbacks=[early_stopping]\n",
    "\n",
    "# # Train the model\n",
    "# model.fit(X_stand_train, y_train_np, epochs=5000, batch_size=50)"
   ]
  },
  {
   "cell_type": "code",
   "execution_count": 32,
   "metadata": {},
   "outputs": [],
   "source": [
    "# predictions = model.predict(X_stand_train)\n",
    "# predictions_train = np.argmax(predictions, axis=1)\n",
    "# comparison_train = (predictions_train == y_train_np)\n",
    "# accuracy_train = np.mean(comparison_train)\n",
    "# print(\"Accuracy on train data:\", accuracy_train)"
   ]
  },
  {
   "cell_type": "code",
   "execution_count": 33,
   "metadata": {},
   "outputs": [],
   "source": [
    "# predictions = model.predict(X_stand_test)\n",
    "# predictions_train = np.argmax(predictions, axis=1)\n",
    "# comparison_train = (predictions_train == y_test_np)\n",
    "# accuracy_train = np.mean(comparison_train)\n",
    "# print(\"Accuracy on train data:\", accuracy_train)"
   ]
  },
  {
   "cell_type": "markdown",
   "metadata": {},
   "source": [
    "#### **Auto-Encoder**"
   ]
  },
  {
   "cell_type": "code",
   "execution_count": 71,
   "metadata": {},
   "outputs": [
    {
     "name": "stdout",
     "output_type": "stream",
     "text": [
      "Epoch 1/100\n",
      "\u001b[1m15/15\u001b[0m \u001b[32m━━━━━━━━━━━━━━━━━━━━\u001b[0m\u001b[37m\u001b[0m \u001b[1m1s\u001b[0m 8ms/step - loss: 0.6940 - val_loss: 0.6900\n",
      "Epoch 2/100\n",
      "\u001b[1m15/15\u001b[0m \u001b[32m━━━━━━━━━━━━━━━━━━━━\u001b[0m\u001b[37m\u001b[0m \u001b[1m0s\u001b[0m 2ms/step - loss: 0.6883 - val_loss: 0.6858\n",
      "Epoch 3/100\n",
      "\u001b[1m15/15\u001b[0m \u001b[32m━━━━━━━━━━━━━━━━━━━━\u001b[0m\u001b[37m\u001b[0m \u001b[1m0s\u001b[0m 2ms/step - loss: 0.6835 - val_loss: 0.6795\n",
      "Epoch 4/100\n",
      "\u001b[1m15/15\u001b[0m \u001b[32m━━━━━━━━━━━━━━━━━━━━\u001b[0m\u001b[37m\u001b[0m \u001b[1m0s\u001b[0m 2ms/step - loss: 0.6745 - val_loss: 0.6657\n",
      "Epoch 5/100\n",
      "\u001b[1m15/15\u001b[0m \u001b[32m━━━━━━━━━━━━━━━━━━━━\u001b[0m\u001b[37m\u001b[0m \u001b[1m0s\u001b[0m 2ms/step - loss: 0.6543 - val_loss: 0.6418\n",
      "Epoch 6/100\n",
      "\u001b[1m15/15\u001b[0m \u001b[32m━━━━━━━━━━━━━━━━━━━━\u001b[0m\u001b[37m\u001b[0m \u001b[1m0s\u001b[0m 2ms/step - loss: 0.6226 - val_loss: 0.6165\n",
      "Epoch 7/100\n",
      "\u001b[1m15/15\u001b[0m \u001b[32m━━━━━━━━━━━━━━━━━━━━\u001b[0m\u001b[37m\u001b[0m \u001b[1m0s\u001b[0m 2ms/step - loss: 0.5890 - val_loss: 0.5985\n",
      "Epoch 8/100\n",
      "\u001b[1m15/15\u001b[0m \u001b[32m━━━━━━━━━━━━━━━━━━━━\u001b[0m\u001b[37m\u001b[0m \u001b[1m0s\u001b[0m 2ms/step - loss: 0.5587 - val_loss: 0.5820\n",
      "Epoch 9/100\n",
      "\u001b[1m15/15\u001b[0m \u001b[32m━━━━━━━━━━━━━━━━━━━━\u001b[0m\u001b[37m\u001b[0m \u001b[1m0s\u001b[0m 2ms/step - loss: 0.5400 - val_loss: 0.5679\n",
      "Epoch 10/100\n",
      "\u001b[1m15/15\u001b[0m \u001b[32m━━━━━━━━━━━━━━━━━━━━\u001b[0m\u001b[37m\u001b[0m \u001b[1m0s\u001b[0m 2ms/step - loss: 0.5271 - val_loss: 0.5594\n",
      "Epoch 11/100\n",
      "\u001b[1m15/15\u001b[0m \u001b[32m━━━━━━━━━━━━━━━━━━━━\u001b[0m\u001b[37m\u001b[0m \u001b[1m0s\u001b[0m 2ms/step - loss: 0.5160 - val_loss: 0.5530\n",
      "Epoch 12/100\n",
      "\u001b[1m15/15\u001b[0m \u001b[32m━━━━━━━━━━━━━━━━━━━━\u001b[0m\u001b[37m\u001b[0m \u001b[1m0s\u001b[0m 2ms/step - loss: 0.5088 - val_loss: 0.5489\n",
      "Epoch 13/100\n",
      "\u001b[1m15/15\u001b[0m \u001b[32m━━━━━━━━━━━━━━━━━━━━\u001b[0m\u001b[37m\u001b[0m \u001b[1m0s\u001b[0m 2ms/step - loss: 0.5099 - val_loss: 0.5445\n",
      "Epoch 14/100\n",
      "\u001b[1m15/15\u001b[0m \u001b[32m━━━━━━━━━━━━━━━━━━━━\u001b[0m\u001b[37m\u001b[0m \u001b[1m0s\u001b[0m 2ms/step - loss: 0.4891 - val_loss: 0.5426\n",
      "Epoch 15/100\n",
      "\u001b[1m15/15\u001b[0m \u001b[32m━━━━━━━━━━━━━━━━━━━━\u001b[0m\u001b[37m\u001b[0m \u001b[1m0s\u001b[0m 2ms/step - loss: 0.4971 - val_loss: 0.5397\n",
      "Epoch 16/100\n",
      "\u001b[1m15/15\u001b[0m \u001b[32m━━━━━━━━━━━━━━━━━━━━\u001b[0m\u001b[37m\u001b[0m \u001b[1m0s\u001b[0m 2ms/step - loss: 0.5047 - val_loss: 0.5391\n",
      "Epoch 17/100\n",
      "\u001b[1m15/15\u001b[0m \u001b[32m━━━━━━━━━━━━━━━━━━━━\u001b[0m\u001b[37m\u001b[0m \u001b[1m0s\u001b[0m 2ms/step - loss: 0.4931 - val_loss: 0.5366\n",
      "Epoch 18/100\n",
      "\u001b[1m15/15\u001b[0m \u001b[32m━━━━━━━━━━━━━━━━━━━━\u001b[0m\u001b[37m\u001b[0m \u001b[1m0s\u001b[0m 3ms/step - loss: 0.4984 - val_loss: 0.5365\n",
      "Epoch 19/100\n",
      "\u001b[1m15/15\u001b[0m \u001b[32m━━━━━━━━━━━━━━━━━━━━\u001b[0m\u001b[37m\u001b[0m \u001b[1m0s\u001b[0m 2ms/step - loss: 0.4914 - val_loss: 0.5349\n",
      "Epoch 20/100\n",
      "\u001b[1m15/15\u001b[0m \u001b[32m━━━━━━━━━━━━━━━━━━━━\u001b[0m\u001b[37m\u001b[0m \u001b[1m0s\u001b[0m 2ms/step - loss: 0.4896 - val_loss: 0.5342\n",
      "Epoch 21/100\n",
      "\u001b[1m15/15\u001b[0m \u001b[32m━━━━━━━━━━━━━━━━━━━━\u001b[0m\u001b[37m\u001b[0m \u001b[1m0s\u001b[0m 2ms/step - loss: 0.4982 - val_loss: 0.5328\n",
      "Epoch 22/100\n",
      "\u001b[1m15/15\u001b[0m \u001b[32m━━━━━━━━━━━━━━━━━━━━\u001b[0m\u001b[37m\u001b[0m \u001b[1m0s\u001b[0m 2ms/step - loss: 0.4835 - val_loss: 0.5316\n",
      "Epoch 23/100\n",
      "\u001b[1m15/15\u001b[0m \u001b[32m━━━━━━━━━━━━━━━━━━━━\u001b[0m\u001b[37m\u001b[0m \u001b[1m0s\u001b[0m 2ms/step - loss: 0.4902 - val_loss: 0.5312\n",
      "Epoch 24/100\n",
      "\u001b[1m15/15\u001b[0m \u001b[32m━━━━━━━━━━━━━━━━━━━━\u001b[0m\u001b[37m\u001b[0m \u001b[1m0s\u001b[0m 2ms/step - loss: 0.4847 - val_loss: 0.5305\n",
      "Epoch 25/100\n",
      "\u001b[1m15/15\u001b[0m \u001b[32m━━━━━━━━━━━━━━━━━━━━\u001b[0m\u001b[37m\u001b[0m \u001b[1m0s\u001b[0m 2ms/step - loss: 0.4933 - val_loss: 0.5300\n",
      "Epoch 26/100\n",
      "\u001b[1m15/15\u001b[0m \u001b[32m━━━━━━━━━━━━━━━━━━━━\u001b[0m\u001b[37m\u001b[0m \u001b[1m0s\u001b[0m 2ms/step - loss: 0.4844 - val_loss: 0.5296\n",
      "Epoch 27/100\n",
      "\u001b[1m15/15\u001b[0m \u001b[32m━━━━━━━━━━━━━━━━━━━━\u001b[0m\u001b[37m\u001b[0m \u001b[1m0s\u001b[0m 2ms/step - loss: 0.4806 - val_loss: 0.5287\n",
      "Epoch 28/100\n",
      "\u001b[1m15/15\u001b[0m \u001b[32m━━━━━━━━━━━━━━━━━━━━\u001b[0m\u001b[37m\u001b[0m \u001b[1m0s\u001b[0m 2ms/step - loss: 0.4740 - val_loss: 0.5283\n",
      "Epoch 29/100\n",
      "\u001b[1m15/15\u001b[0m \u001b[32m━━━━━━━━━━━━━━━━━━━━\u001b[0m\u001b[37m\u001b[0m \u001b[1m0s\u001b[0m 2ms/step - loss: 0.4769 - val_loss: 0.5275\n",
      "Epoch 30/100\n",
      "\u001b[1m15/15\u001b[0m \u001b[32m━━━━━━━━━━━━━━━━━━━━\u001b[0m\u001b[37m\u001b[0m \u001b[1m0s\u001b[0m 2ms/step - loss: 0.4796 - val_loss: 0.5265\n",
      "Epoch 31/100\n",
      "\u001b[1m15/15\u001b[0m \u001b[32m━━━━━━━━━━━━━━━━━━━━\u001b[0m\u001b[37m\u001b[0m \u001b[1m0s\u001b[0m 2ms/step - loss: 0.4813 - val_loss: 0.5261\n",
      "Epoch 32/100\n",
      "\u001b[1m15/15\u001b[0m \u001b[32m━━━━━━━━━━━━━━━━━━━━\u001b[0m\u001b[37m\u001b[0m \u001b[1m0s\u001b[0m 2ms/step - loss: 0.4699 - val_loss: 0.5247\n",
      "Epoch 33/100\n",
      "\u001b[1m15/15\u001b[0m \u001b[32m━━━━━━━━━━━━━━━━━━━━\u001b[0m\u001b[37m\u001b[0m \u001b[1m0s\u001b[0m 2ms/step - loss: 0.4810 - val_loss: 0.5241\n",
      "Epoch 34/100\n",
      "\u001b[1m15/15\u001b[0m \u001b[32m━━━━━━━━━━━━━━━━━━━━\u001b[0m\u001b[37m\u001b[0m \u001b[1m0s\u001b[0m 2ms/step - loss: 0.4789 - val_loss: 0.5235\n",
      "Epoch 35/100\n",
      "\u001b[1m15/15\u001b[0m \u001b[32m━━━━━━━━━━━━━━━━━━━━\u001b[0m\u001b[37m\u001b[0m \u001b[1m0s\u001b[0m 2ms/step - loss: 0.4814 - val_loss: 0.5219\n",
      "Epoch 36/100\n",
      "\u001b[1m15/15\u001b[0m \u001b[32m━━━━━━━━━━━━━━━━━━━━\u001b[0m\u001b[37m\u001b[0m \u001b[1m0s\u001b[0m 2ms/step - loss: 0.4867 - val_loss: 0.5216\n",
      "Epoch 37/100\n",
      "\u001b[1m15/15\u001b[0m \u001b[32m━━━━━━━━━━━━━━━━━━━━\u001b[0m\u001b[37m\u001b[0m \u001b[1m0s\u001b[0m 2ms/step - loss: 0.4721 - val_loss: 0.5203\n",
      "Epoch 38/100\n",
      "\u001b[1m15/15\u001b[0m \u001b[32m━━━━━━━━━━━━━━━━━━━━\u001b[0m\u001b[37m\u001b[0m \u001b[1m0s\u001b[0m 2ms/step - loss: 0.4802 - val_loss: 0.5198\n",
      "Epoch 39/100\n",
      "\u001b[1m15/15\u001b[0m \u001b[32m━━━━━━━━━━━━━━━━━━━━\u001b[0m\u001b[37m\u001b[0m \u001b[1m0s\u001b[0m 2ms/step - loss: 0.4786 - val_loss: 0.5191\n",
      "Epoch 40/100\n",
      "\u001b[1m15/15\u001b[0m \u001b[32m━━━━━━━━━━━━━━━━━━━━\u001b[0m\u001b[37m\u001b[0m \u001b[1m0s\u001b[0m 2ms/step - loss: 0.4795 - val_loss: 0.5191\n",
      "Epoch 41/100\n",
      "\u001b[1m15/15\u001b[0m \u001b[32m━━━━━━━━━━━━━━━━━━━━\u001b[0m\u001b[37m\u001b[0m \u001b[1m0s\u001b[0m 2ms/step - loss: 0.4776 - val_loss: 0.5185\n",
      "Epoch 42/100\n",
      "\u001b[1m15/15\u001b[0m \u001b[32m━━━━━━━━━━━━━━━━━━━━\u001b[0m\u001b[37m\u001b[0m \u001b[1m0s\u001b[0m 2ms/step - loss: 0.4686 - val_loss: 0.5171\n",
      "Epoch 43/100\n",
      "\u001b[1m15/15\u001b[0m \u001b[32m━━━━━━━━━━━━━━━━━━━━\u001b[0m\u001b[37m\u001b[0m \u001b[1m0s\u001b[0m 2ms/step - loss: 0.4725 - val_loss: 0.5168\n",
      "Epoch 44/100\n",
      "\u001b[1m15/15\u001b[0m \u001b[32m━━━━━━━━━━━━━━━━━━━━\u001b[0m\u001b[37m\u001b[0m \u001b[1m0s\u001b[0m 2ms/step - loss: 0.4806 - val_loss: 0.5164\n",
      "Epoch 45/100\n",
      "\u001b[1m15/15\u001b[0m \u001b[32m━━━━━━━━━━━━━━━━━━━━\u001b[0m\u001b[37m\u001b[0m \u001b[1m0s\u001b[0m 2ms/step - loss: 0.4754 - val_loss: 0.5156\n",
      "Epoch 46/100\n",
      "\u001b[1m15/15\u001b[0m \u001b[32m━━━━━━━━━━━━━━━━━━━━\u001b[0m\u001b[37m\u001b[0m \u001b[1m0s\u001b[0m 2ms/step - loss: 0.4762 - val_loss: 0.5152\n",
      "Epoch 47/100\n",
      "\u001b[1m15/15\u001b[0m \u001b[32m━━━━━━━━━━━━━━━━━━━━\u001b[0m\u001b[37m\u001b[0m \u001b[1m0s\u001b[0m 3ms/step - loss: 0.4743 - val_loss: 0.5143\n",
      "Epoch 48/100\n",
      "\u001b[1m15/15\u001b[0m \u001b[32m━━━━━━━━━━━━━━━━━━━━\u001b[0m\u001b[37m\u001b[0m \u001b[1m0s\u001b[0m 2ms/step - loss: 0.4701 - val_loss: 0.5138\n",
      "Epoch 49/100\n",
      "\u001b[1m15/15\u001b[0m \u001b[32m━━━━━━━━━━━━━━━━━━━━\u001b[0m\u001b[37m\u001b[0m \u001b[1m0s\u001b[0m 2ms/step - loss: 0.4776 - val_loss: 0.5130\n",
      "Epoch 50/100\n",
      "\u001b[1m15/15\u001b[0m \u001b[32m━━━━━━━━━━━━━━━━━━━━\u001b[0m\u001b[37m\u001b[0m \u001b[1m0s\u001b[0m 2ms/step - loss: 0.4729 - val_loss: 0.5131\n",
      "Epoch 51/100\n",
      "\u001b[1m15/15\u001b[0m \u001b[32m━━━━━━━━━━━━━━━━━━━━\u001b[0m\u001b[37m\u001b[0m \u001b[1m0s\u001b[0m 2ms/step - loss: 0.4561 - val_loss: 0.5119\n",
      "Epoch 52/100\n",
      "\u001b[1m15/15\u001b[0m \u001b[32m━━━━━━━━━━━━━━━━━━━━\u001b[0m\u001b[37m\u001b[0m \u001b[1m0s\u001b[0m 2ms/step - loss: 0.4727 - val_loss: 0.5125\n",
      "Epoch 53/100\n",
      "\u001b[1m15/15\u001b[0m \u001b[32m━━━━━━━━━━━━━━━━━━━━\u001b[0m\u001b[37m\u001b[0m \u001b[1m0s\u001b[0m 2ms/step - loss: 0.4673 - val_loss: 0.5114\n",
      "Epoch 54/100\n",
      "\u001b[1m15/15\u001b[0m \u001b[32m━━━━━━━━━━━━━━━━━━━━\u001b[0m\u001b[37m\u001b[0m \u001b[1m0s\u001b[0m 2ms/step - loss: 0.4645 - val_loss: 0.5105\n",
      "Epoch 55/100\n",
      "\u001b[1m15/15\u001b[0m \u001b[32m━━━━━━━━━━━━━━━━━━━━\u001b[0m\u001b[37m\u001b[0m \u001b[1m0s\u001b[0m 2ms/step - loss: 0.4682 - val_loss: 0.5109\n",
      "Epoch 56/100\n",
      "\u001b[1m15/15\u001b[0m \u001b[32m━━━━━━━━━━━━━━━━━━━━\u001b[0m\u001b[37m\u001b[0m \u001b[1m0s\u001b[0m 2ms/step - loss: 0.4695 - val_loss: 0.5106\n",
      "Epoch 57/100\n",
      "\u001b[1m15/15\u001b[0m \u001b[32m━━━━━━━━━━━━━━━━━━━━\u001b[0m\u001b[37m\u001b[0m \u001b[1m0s\u001b[0m 2ms/step - loss: 0.4663 - val_loss: 0.5096\n",
      "Epoch 58/100\n",
      "\u001b[1m15/15\u001b[0m \u001b[32m━━━━━━━━━━━━━━━━━━━━\u001b[0m\u001b[37m\u001b[0m \u001b[1m0s\u001b[0m 2ms/step - loss: 0.4539 - val_loss: 0.5090\n",
      "Epoch 59/100\n",
      "\u001b[1m15/15\u001b[0m \u001b[32m━━━━━━━━━━━━━━━━━━━━\u001b[0m\u001b[37m\u001b[0m \u001b[1m0s\u001b[0m 2ms/step - loss: 0.4686 - val_loss: 0.5084\n",
      "Epoch 60/100\n",
      "\u001b[1m15/15\u001b[0m \u001b[32m━━━━━━━━━━━━━━━━━━━━\u001b[0m\u001b[37m\u001b[0m \u001b[1m0s\u001b[0m 2ms/step - loss: 0.4683 - val_loss: 0.5081\n",
      "Epoch 61/100\n",
      "\u001b[1m15/15\u001b[0m \u001b[32m━━━━━━━━━━━━━━━━━━━━\u001b[0m\u001b[37m\u001b[0m \u001b[1m0s\u001b[0m 2ms/step - loss: 0.4635 - val_loss: 0.5077\n",
      "Epoch 62/100\n",
      "\u001b[1m15/15\u001b[0m \u001b[32m━━━━━━━━━━━━━━━━━━━━\u001b[0m\u001b[37m\u001b[0m \u001b[1m0s\u001b[0m 2ms/step - loss: 0.4678 - val_loss: 0.5072\n",
      "Epoch 63/100\n",
      "\u001b[1m15/15\u001b[0m \u001b[32m━━━━━━━━━━━━━━━━━━━━\u001b[0m\u001b[37m\u001b[0m \u001b[1m0s\u001b[0m 2ms/step - loss: 0.4730 - val_loss: 0.5075\n",
      "Epoch 64/100\n",
      "\u001b[1m15/15\u001b[0m \u001b[32m━━━━━━━━━━━━━━━━━━━━\u001b[0m\u001b[37m\u001b[0m \u001b[1m0s\u001b[0m 2ms/step - loss: 0.4611 - val_loss: 0.5062\n",
      "Epoch 65/100\n",
      "\u001b[1m15/15\u001b[0m \u001b[32m━━━━━━━━━━━━━━━━━━━━\u001b[0m\u001b[37m\u001b[0m \u001b[1m0s\u001b[0m 2ms/step - loss: 0.4595 - val_loss: 0.5068\n",
      "Epoch 66/100\n",
      "\u001b[1m15/15\u001b[0m \u001b[32m━━━━━━━━━━━━━━━━━━━━\u001b[0m\u001b[37m\u001b[0m \u001b[1m0s\u001b[0m 2ms/step - loss: 0.4614 - val_loss: 0.5057\n",
      "Epoch 67/100\n",
      "\u001b[1m15/15\u001b[0m \u001b[32m━━━━━━━━━━━━━━━━━━━━\u001b[0m\u001b[37m\u001b[0m \u001b[1m0s\u001b[0m 2ms/step - loss: 0.4633 - val_loss: 0.5046\n",
      "Epoch 68/100\n",
      "\u001b[1m15/15\u001b[0m \u001b[32m━━━━━━━━━━━━━━━━━━━━\u001b[0m\u001b[37m\u001b[0m \u001b[1m0s\u001b[0m 2ms/step - loss: 0.4633 - val_loss: 0.5056\n",
      "Epoch 69/100\n",
      "\u001b[1m15/15\u001b[0m \u001b[32m━━━━━━━━━━━━━━━━━━━━\u001b[0m\u001b[37m\u001b[0m \u001b[1m0s\u001b[0m 2ms/step - loss: 0.4679 - val_loss: 0.5052\n",
      "Epoch 70/100\n",
      "\u001b[1m15/15\u001b[0m \u001b[32m━━━━━━━━━━━━━━━━━━━━\u001b[0m\u001b[37m\u001b[0m \u001b[1m0s\u001b[0m 2ms/step - loss: 0.4630 - val_loss: 0.5045\n",
      "Epoch 71/100\n",
      "\u001b[1m15/15\u001b[0m \u001b[32m━━━━━━━━━━━━━━━━━━━━\u001b[0m\u001b[37m\u001b[0m \u001b[1m0s\u001b[0m 2ms/step - loss: 0.4593 - val_loss: 0.5035\n",
      "Epoch 72/100\n",
      "\u001b[1m15/15\u001b[0m \u001b[32m━━━━━━━━━━━━━━━━━━━━\u001b[0m\u001b[37m\u001b[0m \u001b[1m0s\u001b[0m 2ms/step - loss: 0.4609 - val_loss: 0.5037\n",
      "Epoch 73/100\n",
      "\u001b[1m15/15\u001b[0m \u001b[32m━━━━━━━━━━━━━━━━━━━━\u001b[0m\u001b[37m\u001b[0m \u001b[1m0s\u001b[0m 2ms/step - loss: 0.4554 - val_loss: 0.5025\n",
      "Epoch 74/100\n",
      "\u001b[1m15/15\u001b[0m \u001b[32m━━━━━━━━━━━━━━━━━━━━\u001b[0m\u001b[37m\u001b[0m \u001b[1m0s\u001b[0m 2ms/step - loss: 0.4621 - val_loss: 0.5036\n",
      "Epoch 75/100\n",
      "\u001b[1m15/15\u001b[0m \u001b[32m━━━━━━━━━━━━━━━━━━━━\u001b[0m\u001b[37m\u001b[0m \u001b[1m0s\u001b[0m 2ms/step - loss: 0.4654 - val_loss: 0.5024\n",
      "Epoch 76/100\n",
      "\u001b[1m15/15\u001b[0m \u001b[32m━━━━━━━━━━━━━━━━━━━━\u001b[0m\u001b[37m\u001b[0m \u001b[1m0s\u001b[0m 2ms/step - loss: 0.4628 - val_loss: 0.5021\n",
      "Epoch 77/100\n",
      "\u001b[1m15/15\u001b[0m \u001b[32m━━━━━━━━━━━━━━━━━━━━\u001b[0m\u001b[37m\u001b[0m \u001b[1m0s\u001b[0m 2ms/step - loss: 0.4611 - val_loss: 0.5018\n",
      "Epoch 78/100\n",
      "\u001b[1m15/15\u001b[0m \u001b[32m━━━━━━━━━━━━━━━━━━━━\u001b[0m\u001b[37m\u001b[0m \u001b[1m0s\u001b[0m 2ms/step - loss: 0.4674 - val_loss: 0.5006\n",
      "Epoch 79/100\n",
      "\u001b[1m15/15\u001b[0m \u001b[32m━━━━━━━━━━━━━━━━━━━━\u001b[0m\u001b[37m\u001b[0m \u001b[1m0s\u001b[0m 2ms/step - loss: 0.4562 - val_loss: 0.5010\n",
      "Epoch 80/100\n",
      "\u001b[1m15/15\u001b[0m \u001b[32m━━━━━━━━━━━━━━━━━━━━\u001b[0m\u001b[37m\u001b[0m \u001b[1m0s\u001b[0m 2ms/step - loss: 0.4610 - val_loss: 0.5000\n",
      "Epoch 81/100\n",
      "\u001b[1m15/15\u001b[0m \u001b[32m━━━━━━━━━━━━━━━━━━━━\u001b[0m\u001b[37m\u001b[0m \u001b[1m0s\u001b[0m 2ms/step - loss: 0.4533 - val_loss: 0.5001\n",
      "Epoch 82/100\n",
      "\u001b[1m15/15\u001b[0m \u001b[32m━━━━━━━━━━━━━━━━━━━━\u001b[0m\u001b[37m\u001b[0m \u001b[1m0s\u001b[0m 2ms/step - loss: 0.4657 - val_loss: 0.5008\n",
      "Epoch 83/100\n",
      "\u001b[1m15/15\u001b[0m \u001b[32m━━━━━━━━━━━━━━━━━━━━\u001b[0m\u001b[37m\u001b[0m \u001b[1m0s\u001b[0m 2ms/step - loss: 0.4626 - val_loss: 0.4992\n",
      "Epoch 84/100\n",
      "\u001b[1m15/15\u001b[0m \u001b[32m━━━━━━━━━━━━━━━━━━━━\u001b[0m\u001b[37m\u001b[0m \u001b[1m0s\u001b[0m 2ms/step - loss: 0.4577 - val_loss: 0.5002\n",
      "Epoch 85/100\n",
      "\u001b[1m15/15\u001b[0m \u001b[32m━━━━━━━━━━━━━━━━━━━━\u001b[0m\u001b[37m\u001b[0m \u001b[1m0s\u001b[0m 2ms/step - loss: 0.4573 - val_loss: 0.4992\n",
      "Epoch 86/100\n",
      "\u001b[1m15/15\u001b[0m \u001b[32m━━━━━━━━━━━━━━━━━━━━\u001b[0m\u001b[37m\u001b[0m \u001b[1m0s\u001b[0m 2ms/step - loss: 0.4593 - val_loss: 0.4990\n",
      "Epoch 87/100\n",
      "\u001b[1m15/15\u001b[0m \u001b[32m━━━━━━━━━━━━━━━━━━━━\u001b[0m\u001b[37m\u001b[0m \u001b[1m0s\u001b[0m 2ms/step - loss: 0.4596 - val_loss: 0.4985\n",
      "Epoch 88/100\n",
      "\u001b[1m15/15\u001b[0m \u001b[32m━━━━━━━━━━━━━━━━━━━━\u001b[0m\u001b[37m\u001b[0m \u001b[1m0s\u001b[0m 2ms/step - loss: 0.4583 - val_loss: 0.4973\n",
      "Epoch 89/100\n",
      "\u001b[1m15/15\u001b[0m \u001b[32m━━━━━━━━━━━━━━━━━━━━\u001b[0m\u001b[37m\u001b[0m \u001b[1m0s\u001b[0m 2ms/step - loss: 0.4590 - val_loss: 0.4981\n",
      "Epoch 90/100\n",
      "\u001b[1m15/15\u001b[0m \u001b[32m━━━━━━━━━━━━━━━━━━━━\u001b[0m\u001b[37m\u001b[0m \u001b[1m0s\u001b[0m 2ms/step - loss: 0.4674 - val_loss: 0.4964\n",
      "Epoch 91/100\n",
      "\u001b[1m15/15\u001b[0m \u001b[32m━━━━━━━━━━━━━━━━━━━━\u001b[0m\u001b[37m\u001b[0m \u001b[1m0s\u001b[0m 2ms/step - loss: 0.4543 - val_loss: 0.4967\n",
      "Epoch 92/100\n",
      "\u001b[1m15/15\u001b[0m \u001b[32m━━━━━━━━━━━━━━━━━━━━\u001b[0m\u001b[37m\u001b[0m \u001b[1m0s\u001b[0m 2ms/step - loss: 0.4627 - val_loss: 0.4967\n",
      "Epoch 93/100\n",
      "\u001b[1m15/15\u001b[0m \u001b[32m━━━━━━━━━━━━━━━━━━━━\u001b[0m\u001b[37m\u001b[0m \u001b[1m0s\u001b[0m 2ms/step - loss: 0.4608 - val_loss: 0.4959\n",
      "Epoch 94/100\n",
      "\u001b[1m15/15\u001b[0m \u001b[32m━━━━━━━━━━━━━━━━━━━━\u001b[0m\u001b[37m\u001b[0m \u001b[1m0s\u001b[0m 2ms/step - loss: 0.4564 - val_loss: 0.4959\n",
      "Epoch 95/100\n",
      "\u001b[1m15/15\u001b[0m \u001b[32m━━━━━━━━━━━━━━━━━━━━\u001b[0m\u001b[37m\u001b[0m \u001b[1m0s\u001b[0m 3ms/step - loss: 0.4479 - val_loss: 0.4951\n",
      "Epoch 96/100\n",
      "\u001b[1m15/15\u001b[0m \u001b[32m━━━━━━━━━━━━━━━━━━━━\u001b[0m\u001b[37m\u001b[0m \u001b[1m0s\u001b[0m 2ms/step - loss: 0.4509 - val_loss: 0.4950\n",
      "Epoch 97/100\n",
      "\u001b[1m15/15\u001b[0m \u001b[32m━━━━━━━━━━━━━━━━━━━━\u001b[0m\u001b[37m\u001b[0m \u001b[1m0s\u001b[0m 2ms/step - loss: 0.4568 - val_loss: 0.4947\n",
      "Epoch 98/100\n",
      "\u001b[1m15/15\u001b[0m \u001b[32m━━━━━━━━━━━━━━━━━━━━\u001b[0m\u001b[37m\u001b[0m \u001b[1m0s\u001b[0m 2ms/step - loss: 0.4599 - val_loss: 0.4941\n",
      "Epoch 99/100\n",
      "\u001b[1m15/15\u001b[0m \u001b[32m━━━━━━━━━━━━━━━━━━━━\u001b[0m\u001b[37m\u001b[0m \u001b[1m0s\u001b[0m 2ms/step - loss: 0.4467 - val_loss: 0.4938\n",
      "Epoch 100/100\n",
      "\u001b[1m15/15\u001b[0m \u001b[32m━━━━━━━━━━━━━━━━━━━━\u001b[0m\u001b[37m\u001b[0m \u001b[1m0s\u001b[0m 2ms/step - loss: 0.4570 - val_loss: 0.4940\n"
     ]
    },
    {
     "data": {
      "text/plain": [
       "<keras.src.callbacks.history.History at 0x2f817038bd0>"
      ]
     },
     "execution_count": 71,
     "metadata": {},
     "output_type": "execute_result"
    }
   ],
   "source": [
    "encoder = tf.keras.Sequential([\n",
    "    tf.keras.layers.Dense(20, activation='relu', input_shape=(20,)),\n",
    "    tf.keras.layers.Dense(10, activation='relu'),\n",
    "    tf.keras.layers.Dense(5, activation='relu')\n",
    "])\n",
    "\n",
    "# Define the decoder\n",
    "decoder = tf.keras.Sequential([\n",
    "    tf.keras.layers.Dense(5, activation='relu', input_shape=(5,)),\n",
    "    tf.keras.layers.Dense(10, activation='relu'),\n",
    "    tf.keras.layers.Dense(20, activation='sigmoid')\n",
    "])\n",
    "\n",
    "# Combine the encoder and the decoder to create the autoencoder\n",
    "autoencoder = tf.keras.Sequential([\n",
    "    encoder,\n",
    "    decoder\n",
    "])\n",
    "\n",
    "optimizer = tf.keras.optimizers.Adam(learning_rate=0.001)\n",
    "autoencoder.compile(optimizer=optimizer, loss='binary_crossentropy')\n",
    "\n",
    "# Assuming that `data` is your 249x20 dataset\n",
    "autoencoder.fit(X_norm_train, X_norm_train,\n",
    "                epochs=100,\n",
    "                batch_size=10,\n",
    "                shuffle=True,\n",
    "                validation_data=(X_norm_val, X_norm_val))"
   ]
  },
  {
   "cell_type": "code",
   "execution_count": 72,
   "metadata": {},
   "outputs": [
    {
     "name": "stdout",
     "output_type": "stream",
     "text": [
      "\u001b[1m2/2\u001b[0m \u001b[32m━━━━━━━━━━━━━━━━━━━━\u001b[0m\u001b[37m\u001b[0m \u001b[1m0s\u001b[0m 32ms/step\n",
      "0.11439162651684906\n"
     ]
    }
   ],
   "source": [
    "# Use the autoencoder to reconstruct the validation data\n",
    "reconstructed_data = autoencoder.predict(X_norm_val)\n",
    "\n",
    "# Calculate the reconstruction error\n",
    "reconstruction_error = np.mean(np.abs(X_norm_val - reconstructed_data), axis=1)\n",
    "\n",
    "# Print the mean reconstruction error\n",
    "print(np.mean(reconstruction_error))"
   ]
  },
  {
   "cell_type": "code",
   "execution_count": 73,
   "metadata": {},
   "outputs": [
    {
     "name": "stdout",
     "output_type": "stream",
     "text": [
      "\u001b[1m5/5\u001b[0m \u001b[32m━━━━━━━━━━━━━━━━━━━━\u001b[0m\u001b[37m\u001b[0m \u001b[1m0s\u001b[0m 5ms/step \n",
      "\u001b[1m2/2\u001b[0m \u001b[32m━━━━━━━━━━━━━━━━━━━━\u001b[0m\u001b[37m\u001b[0m \u001b[1m0s\u001b[0m 1ms/step \n",
      "\u001b[1m2/2\u001b[0m \u001b[32m━━━━━━━━━━━━━━━━━━━━\u001b[0m\u001b[37m\u001b[0m \u001b[1m0s\u001b[0m 2ms/step \n"
     ]
    }
   ],
   "source": [
    "encoded_train = encoder.predict(X_norm_train)\n",
    "encoded_val = encoder.predict(X_norm_val)\n",
    "encoded_test = encoder.predict(X_norm_test)\n"
   ]
  },
  {
   "cell_type": "code",
   "execution_count": null,
   "metadata": {},
   "outputs": [],
   "source": [
    "param_grid = {\n",
    "    'criterion': ['gini', 'entropy'],\n",
    "    'max_depth': np.arange(1, 50),\n",
    "    'min_samples_split': np.arange(2, 20),\n",
    "    'min_samples_leaf': np.arange(1, 10),\n",
    "}\n",
    "dtc = DecisionTreeClassifier()\n",
    "random_search = RandomizedSearchCV(dtc, param_distributions=param_grid, n_iter=100, cv=5, verbose=2, random_state=42, n_jobs=-1)\n",
    "random_search.fit(encoded_train, y_train_np)\n",
    "print(random_search.best_params_)"
   ]
  },
  {
   "cell_type": "code",
   "execution_count": 108,
   "metadata": {},
   "outputs": [
    {
     "name": "stdout",
     "output_type": "stream",
     "text": [
      "Test Accuracy: 0.78\n",
      "Train Accuracy: 0.7046979865771812\n"
     ]
    }
   ],
   "source": [
    "model = 0\n",
    "tampon_test = 0\n",
    "tampon_train = 0\n",
    "test_acc = []\n",
    "train_acc = []\n",
    "for i in range (0, 1000):\n",
    "    # Create Decision Tree classifer object\n",
    "    clf = DecisionTreeClassifier(max_depth=45, min_samples_split=18, min_samples_leaf=8, max_features='sqrt', criterion='gini')\n",
    "\n",
    "    # Train Decision Tree Classifer\n",
    "    clf = clf.fit(encoded_train, y_train)\n",
    "\n",
    "    #Predict the response for test dataset\n",
    "    y_pred = clf.predict(encoded_test)\n",
    "\n",
    "    # Model Accuracy, how often is the classifier correct?\n",
    "    accuracy = accuracy_score(y_test, y_pred) \n",
    "    if accuracy > tampon_test:\n",
    "        test_acc.append(accuracy)\n",
    "        tampon_test = accuracy\n",
    "        model = clf\n",
    "\n",
    "    y_pred = clf.predict(encoded_train)\n",
    "    accuracy = accuracy_score(y_train, y_pred) \n",
    "    if accuracy > tampon_train:\n",
    "        train_acc.append(accuracy)\n",
    "        tampon_train = accuracy\n",
    "        model = clf\n",
    "print(\"Test Accuracy:\", max(test_acc))\n",
    "print(\"Train Accuracy:\", max(train_acc))"
   ]
  }
 ],
 "metadata": {
  "kernelspec": {
   "display_name": "Python 3",
   "language": "python",
   "name": "python3"
  },
  "language_info": {
   "codemirror_mode": {
    "name": "ipython",
    "version": 3
   },
   "file_extension": ".py",
   "mimetype": "text/x-python",
   "name": "python",
   "nbconvert_exporter": "python",
   "pygments_lexer": "ipython3",
   "version": "3.11.9"
  }
 },
 "nbformat": 4,
 "nbformat_minor": 2
}
