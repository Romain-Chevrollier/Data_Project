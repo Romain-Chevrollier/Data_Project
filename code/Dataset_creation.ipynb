{
 "cells": [
  {
   "cell_type": "code",
   "execution_count": 1,
   "metadata": {},
   "outputs": [],
   "source": [
    "# System imports\n",
    "import glob\n",
    "import os\n",
    "import matplotlib.pyplot as plt\n",
    "import numpy as np\n",
    "import datetime\n",
    "from time import process_time\n",
    "\n",
    "# Extra library imports\n",
    "from PIL import Image\n",
    "from scipy.optimize import minimize\n",
    "import scipy.ndimage as ndi\n",
    "import pandas as pd\n",
    "import cv2\n",
    "from skimage.draw import line\n",
    "from skimage.measure import label, regionprops\n",
    "import mahotas as mh\n",
    "from scipy.stats import kurtosis\n",
    "from scipy.stats import skew"
   ]
  },
  {
   "cell_type": "markdown",
   "metadata": {},
   "source": [
    "# **SYMMETRY INDEX**"
   ]
  },
  {
   "cell_type": "code",
   "execution_count": null,
   "metadata": {},
   "outputs": [],
   "source": [
    "def symmetry_index(mask_arr):\n",
    "    # Flip the mask around the y-axis\n",
    "    flipped_mask = np.fliplr(mask_arr)\n",
    "    plt.imshow(flipped_mask, cmap='gray')\n",
    "    # Calculate the absolute difference between the original and flipped mask\n",
    "    diff = np.abs(mask_arr - flipped_mask)\n",
    "\n",
    "    # Calculate the symmetry index\n",
    "    symmetry_index = np.sum(diff) / np.sum(mask_arr)\n",
    "\n",
    "    return symmetry_index"
   ]
  },
  {
   "cell_type": "markdown",
   "metadata": {},
   "source": [
    "# **RATIO TWO LONGEST ORTHO LINES**"
   ]
  },
  {
   "cell_type": "code",
   "execution_count": null,
   "metadata": {},
   "outputs": [],
   "source": []
  },
  {
   "cell_type": "markdown",
   "metadata": {},
   "source": [
    "# **RATIO NUM_PIX_BUG / NUM_PIX_IM**"
   ]
  },
  {
   "cell_type": "code",
   "execution_count": null,
   "metadata": {},
   "outputs": [],
   "source": [
    "def number_of_pixel_ratio(mask_arr, im_arr):\n",
    "    # Assume mask_arr is your mask array and image is your image array\n",
    "\n",
    "    # Calculate the number of pixels of the bug\n",
    "    num_pixels_bug = np.sum(mask_arr > 0)\n",
    "    print('Number of pixels in the bug:', num_pixels_bug)\n",
    "    # Calculate the number of pixels in the full image\n",
    "    num_pixels_image = im_arr.size\n",
    "    print('Number of pixels in the image:', num_pixels_image)\n",
    "    # Calculate the ratio\n",
    "    ratio = num_pixels_bug / num_pixels_image\n",
    "\n",
    "    return ratio"
   ]
  },
  {
   "cell_type": "markdown",
   "metadata": {},
   "source": [
    "# **MIN,MAX,MEAN,MEDIAN,STANDARD DEVIATION RGB MASK**"
   ]
  },
  {
   "cell_type": "code",
   "execution_count": null,
   "metadata": {},
   "outputs": [],
   "source": [
    "def rgb_mask_features(mask_arr, im_arr):\n",
    "    # Assuming the bug mask is stored in the variable 'mask_arr' as a numpy array\n",
    "\n",
    "    # Get the RGB values within the bug mask\n",
    "    bug_pixels = im_arr[mask_arr == 1]\n",
    "    # Get the Red, Green, and Blue channels\n",
    "    red_channel = bug_pixels[:, 0]\n",
    "    green_channel = bug_pixels[:, 1]\n",
    "    blue_channel = bug_pixels[:, 2]\n",
    "\n",
    "    # Calculate the minimum, maximum, and mean values for each channel\n",
    "    red_min = np.min(red_channel)\n",
    "    red_max = np.max(red_channel)\n",
    "    red_mean = np.mean(red_channel)\n",
    "\n",
    "    green_min = np.min(green_channel)\n",
    "    green_max = np.max(green_channel)\n",
    "    green_mean = np.mean(green_channel)\n",
    "\n",
    "    blue_min = np.min(blue_channel)\n",
    "    blue_max = np.max(blue_channel)\n",
    "    blue_mean = np.mean(blue_channel)\n",
    "\n",
    "    # Calculate median and standard deviation for red channel\n",
    "    red_median = np.median(red_channel)\n",
    "    red_std = np.std(red_channel)\n",
    "\n",
    "    # Calculate median and standard deviation for green channel\n",
    "    green_median = np.median(green_channel)\n",
    "    green_std = np.std(green_channel)\n",
    "\n",
    "    # Calculate median and standard deviation for blue channel\n",
    "    blue_median = np.median(blue_channel)\n",
    "    blue_std = np.std(blue_channel)\n",
    "\n",
    "    red_features = [red_min, red_max, red_mean, red_median, red_std]\n",
    "    green_features = [green_min, green_max, green_mean, green_median, green_std]\n",
    "    blue_features = [blue_min, blue_max, blue_mean, blue_median, blue_std]\n",
    "\n",
    "    return (red_features,blue_features,green_features)"
   ]
  },
  {
   "cell_type": "markdown",
   "metadata": {},
   "source": [
    "# **HARALICK TEXTURE FEATURE**"
   ]
  },
  {
   "cell_type": "code",
   "execution_count": null,
   "metadata": {},
   "outputs": [],
   "source": [
    "def haralick_features(mask_arr, im_arr):\n",
    "    # Assuming the bug mask is stored in the variable 'mask_arr' as a numpy array\n",
    "\n",
    "    # Convert the image to grayscale\n",
    "    gray_image = mh.colors.rgb2gray(im_arr*mask_arr[:,:,None])\n",
    "    gray_image = gray_image.astype(np.uint8)\n",
    "\n",
    "    # Calculate Haralick texture features\n",
    "    haralick_features = mh.features.haralick(gray_image, return_mean=True)\n",
    "\n",
    "    return haralick_features"
   ]
  },
  {
   "cell_type": "markdown",
   "metadata": {},
   "source": [
    "# **ECCENTRICITY FEATURE**"
   ]
  },
  {
   "cell_type": "code",
   "execution_count": null,
   "metadata": {},
   "outputs": [],
   "source": [
    "def eccentricity(mask_arr):\n",
    "    # Calculate the eccentricity\n",
    "    props = regionprops(mask_arr)\n",
    "    eccentricity = props[0].eccentricity\n",
    "\n",
    "    return eccentricity"
   ]
  },
  {
   "cell_type": "markdown",
   "metadata": {},
   "source": [
    "# **KURTHOSIS,SKEWNESS FEATURE**"
   ]
  },
  {
   "cell_type": "code",
   "execution_count": null,
   "metadata": {},
   "outputs": [],
   "source": [
    "def kurthosis_skewness(mask_arr, im_arr):\n",
    "    # Assuming im_arr is your image array and mask_arr is your mask\n",
    "    # Apply the mask to the image\n",
    "    masked_im = im_arr * mask_arr[:,:,None]\n",
    "\n",
    "    # Flatten the array to 1D for the calculation\n",
    "    flattened_im = masked_im.flatten()\n",
    "\n",
    "    # Calculate kurtosis\n",
    "    kurt = kurtosis(flattened_im)\n",
    "\n",
    "    # Assuming flattened_im is your flattened image array from the previous step\n",
    "    # Calculate skewness\n",
    "    skewness = skew(flattened_im)\n",
    "\n",
    "    return (kurt,skewness) "
   ]
  }
 ],
 "metadata": {
  "kernelspec": {
   "display_name": "Python 3",
   "language": "python",
   "name": "python3"
  },
  "language_info": {
   "codemirror_mode": {
    "name": "ipython",
    "version": 3
   },
   "file_extension": ".py",
   "mimetype": "text/x-python",
   "name": "python",
   "nbconvert_exporter": "python",
   "pygments_lexer": "ipython3",
   "version": "3.11.9"
  }
 },
 "nbformat": 4,
 "nbformat_minor": 2
}
