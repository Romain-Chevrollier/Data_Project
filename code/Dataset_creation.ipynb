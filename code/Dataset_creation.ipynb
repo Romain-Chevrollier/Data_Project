{
 "cells": [
  {
   "cell_type": "code",
   "execution_count": 51,
   "metadata": {},
   "outputs": [],
   "source": [
    "# System imports\n",
    "import glob\n",
    "import os\n",
    "import matplotlib.pyplot as plt\n",
    "import numpy as np\n",
    "import datetime\n",
    "from time import process_time\n",
    "\n",
    "# Extra library imports\n",
    "from PIL import Image\n",
    "from scipy.optimize import minimize\n",
    "import scipy.ndimage as ndi\n",
    "import pandas as pd\n",
    "import cv2\n",
    "from skimage.draw import line\n",
    "from skimage.measure import label, regionprops\n",
    "import mahotas as mh\n",
    "from scipy.stats import kurtosis\n",
    "from scipy.stats import skew\n",
    "import glob"
   ]
  },
  {
   "cell_type": "markdown",
   "metadata": {},
   "source": [
    "# **SYMMETRY INDEX**"
   ]
  },
  {
   "cell_type": "code",
   "execution_count": 52,
   "metadata": {},
   "outputs": [],
   "source": [
    "def symmetry_index(mask_arr):\n",
    "    # Flip the mask around the y-axis\n",
    "    flipped_mask = np.fliplr(mask_arr)\n",
    "    # Calculate the absolute difference between the original and flipped mask\n",
    "    diff = np.abs(mask_arr - flipped_mask)\n",
    "\n",
    "    # Calculate the symmetry index\n",
    "    symmetry_index = np.sum(diff) / np.sum(mask_arr)\n",
    "\n",
    "    return symmetry_index"
   ]
  },
  {
   "cell_type": "markdown",
   "metadata": {},
   "source": [
    "# **RATIO TWO LONGEST ORTHO LINES**"
   ]
  },
  {
   "cell_type": "code",
   "execution_count": 53,
   "metadata": {},
   "outputs": [],
   "source": [
    "def Longest_ortho_lines_ratio(mask_arr,im_arr):\n",
    "    return 0"
   ]
  },
  {
   "cell_type": "markdown",
   "metadata": {},
   "source": [
    "# **RATIO NUM_PIX_BUG / NUM_PIX_IM**"
   ]
  },
  {
   "cell_type": "code",
   "execution_count": 54,
   "metadata": {},
   "outputs": [],
   "source": [
    "def number_of_pixel_ratio(mask_arr, im_arr):\n",
    "    # Assume mask_arr is your mask array and image is your image array\n",
    "\n",
    "    # Calculate the number of pixels of the bug\n",
    "    num_pixels_bug = np.sum(mask_arr > 0)\n",
    "    # Calculate the number of pixels in the full image\n",
    "    num_pixels_image = im_arr.size\n",
    "    # Calculate the ratio\n",
    "    ratio = num_pixels_bug / num_pixels_image\n",
    "\n",
    "    return ratio"
   ]
  },
  {
   "cell_type": "markdown",
   "metadata": {},
   "source": [
    "# **MIN,MAX,MEAN,MEDIAN,STANDARD DEVIATION RGB MASK**"
   ]
  },
  {
   "cell_type": "code",
   "execution_count": 55,
   "metadata": {},
   "outputs": [],
   "source": [
    "def rgb_mask_features(mask_arr, im_arr):\n",
    "    # Assuming the bug mask is stored in the variable 'mask_arr' as a numpy array\n",
    "\n",
    "    # Get the RGB values within the bug mask\n",
    "    bug_pixels = im_arr[mask_arr == 1]\n",
    "    # Get the Red, Green, and Blue channels\n",
    "    red_channel = bug_pixels[:, 0]\n",
    "    green_channel = bug_pixels[:, 1]\n",
    "    blue_channel = bug_pixels[:, 2]\n",
    "\n",
    "    # Calculate the minimum, maximum, and mean values for each channel\n",
    "    red_min = np.min(red_channel)\n",
    "    red_max = np.max(red_channel)\n",
    "    red_mean = np.mean(red_channel)\n",
    "\n",
    "    green_min = np.min(green_channel)\n",
    "    green_max = np.max(green_channel)\n",
    "    green_mean = np.mean(green_channel)\n",
    "\n",
    "    blue_min = np.min(blue_channel)\n",
    "    blue_max = np.max(blue_channel)\n",
    "    blue_mean = np.mean(blue_channel)\n",
    "\n",
    "    # Calculate median and standard deviation for red channel\n",
    "    red_median = np.median(red_channel)\n",
    "    red_std = np.std(red_channel)\n",
    "\n",
    "    # Calculate median and standard deviation for green channel\n",
    "    green_median = np.median(green_channel)\n",
    "    green_std = np.std(green_channel)\n",
    "\n",
    "    # Calculate median and standard deviation for blue channel\n",
    "    blue_median = np.median(blue_channel)\n",
    "    blue_std = np.std(blue_channel)\n",
    "\n",
    "    red_features = [red_min, red_max, red_mean, red_median, red_std]\n",
    "    green_features = [green_min, green_max, green_mean, green_median, green_std]\n",
    "    blue_features = [blue_min, blue_max, blue_mean, blue_median, blue_std]\n",
    "\n",
    "    return (red_features,blue_features,green_features)"
   ]
  },
  {
   "cell_type": "markdown",
   "metadata": {},
   "source": [
    "# **HARALICK TEXTURE FEATURE**"
   ]
  },
  {
   "cell_type": "code",
   "execution_count": 56,
   "metadata": {},
   "outputs": [],
   "source": [
    "def haralick_features(mask_arr, im_arr):\n",
    "    # Assuming the bug mask is stored in the variable 'mask_arr' as a numpy array\n",
    "\n",
    "    # Convert the image to grayscale\n",
    "    gray_image = mh.colors.rgb2gray(im_arr*mask_arr[:,:,None])\n",
    "    gray_image = gray_image.astype(np.uint8)\n",
    "\n",
    "    # Calculate Haralick texture features\n",
    "    haralick_features = mh.features.haralick(gray_image, return_mean=True)\n",
    "\n",
    "    return haralick_features"
   ]
  },
  {
   "cell_type": "markdown",
   "metadata": {},
   "source": [
    "# **ECCENTRICITY FEATURE**"
   ]
  },
  {
   "cell_type": "code",
   "execution_count": 57,
   "metadata": {},
   "outputs": [],
   "source": [
    "def eccentricity(mask_arr):\n",
    "    # Calculate the eccentricity\n",
    "    props = regionprops(mask_arr)\n",
    "    eccentricity = props[0].eccentricity\n",
    "\n",
    "    return eccentricity"
   ]
  },
  {
   "cell_type": "markdown",
   "metadata": {},
   "source": [
    "# **KURTHOSIS,SKEWNESS FEATURE**"
   ]
  },
  {
   "cell_type": "code",
   "execution_count": 58,
   "metadata": {},
   "outputs": [],
   "source": [
    "def kurthosis_skewness(mask_arr, im_arr):\n",
    "    # Assuming im_arr is your image array and mask_arr is your mask\n",
    "    # Apply the mask to the image\n",
    "    masked_im = im_arr * mask_arr[:,:,None]\n",
    "\n",
    "    # Flatten the array to 1D for the calculation\n",
    "    flattened_im = masked_im.flatten()\n",
    "\n",
    "    # Calculate kurtosis\n",
    "    kurt = kurtosis(flattened_im)\n",
    "\n",
    "    # Assuming flattened_im is your flattened image array from the previous step\n",
    "    # Calculate skewness\n",
    "    skewness = skew(flattened_im)\n",
    "\n",
    "    return (kurt,skewness) "
   ]
  },
  {
   "cell_type": "markdown",
   "metadata": {},
   "source": [
    "# **Creating all features in a dataset**"
   ]
  },
  {
   "cell_type": "code",
   "execution_count": 59,
   "metadata": {},
   "outputs": [],
   "source": [
    "def Creating_all_features(mask_arr, im_arr):\n",
    "    # Calculate the symmetry index\n",
    "    symmetry = symmetry_index(mask_arr)\n",
    "\n",
    "    longest_ratio = Longest_ortho_lines_ratio(mask_arr,im_arr)\n",
    "    # Calculate the number of pixels ratio\n",
    "    num_pixels_ratio = number_of_pixel_ratio(mask_arr, im_arr)\n",
    "\n",
    "    # Calculate the RGB features\n",
    "    rgb_features = rgb_mask_features(mask_arr, im_arr)\n",
    "\n",
    "    # Calculate the Haralick features\n",
    "    haralick = haralick_features(mask_arr, im_arr)\n",
    "\n",
    "    # Calculate the eccentricity\n",
    "    ecc = eccentricity(mask_arr)\n",
    "\n",
    "    # Calculate the kurtosis and skewness\n",
    "    kurt, skewness = kurthosis_skewness(mask_arr, im_arr)\n",
    "\n",
    "    return (symmetry, longest_ratio, num_pixels_ratio, rgb_features, haralick, ecc, kurt, skewness)"
   ]
  },
  {
   "cell_type": "code",
   "execution_count": 75,
   "metadata": {},
   "outputs": [
    {
     "name": "stdout",
     "output_type": "stream",
     "text": [
      "../train/1.jpg ../train/masks/binary_1.tif\n",
      "../train/2.jpg ../train/masks/binary_2.tif\n"
     ]
    }
   ],
   "source": [
    "# Get the file paths of the images and masks in the train folder\n",
    "image_paths = [f'../train/{i}.jpg' for i in range(1, 3)]\n",
    "mask_paths = [f'../train/masks/binary_{i}.tif' for i in range(1, 3)]\n",
    "\n",
    "\n",
    "dataframe = pd.DataFrame(columns=['symmetry', 'longest_ratio', 'num_pixels_ratio', 'rgb_features', 'haralick', 'ecc', 'kurt', 'skewness'])\n",
    "\n",
    "# Iterate over the image and mask paths\n",
    "for i, (image_path, mask_path) in enumerate(zip(image_paths, mask_paths)):\n",
    "    print(image_path, mask_path)\n",
    "    im_arr = np.array(Image.open(image_path))\n",
    "    mask_arr = cv2.imread(mask_path, cv2.IMREAD_GRAYSCALE)\n",
    "    mask_arr = np.where(mask_arr > 0, 1, 0)\n",
    "\n",
    "    # Appeler la fonction Creating_all_features pour obtenir les valeurs\n",
    "    features = Creating_all_features(mask_arr, im_arr)\n",
    "\n",
    "    # Create a new DataFrame from the features and append it to df\n",
    "    dataframe.loc[i] = features\n"
   ]
  },
  {
   "cell_type": "code",
   "execution_count": 76,
   "metadata": {},
   "outputs": [
    {
     "data": {
      "text/html": [
       "<div>\n",
       "<style scoped>\n",
       "    .dataframe tbody tr th:only-of-type {\n",
       "        vertical-align: middle;\n",
       "    }\n",
       "\n",
       "    .dataframe tbody tr th {\n",
       "        vertical-align: top;\n",
       "    }\n",
       "\n",
       "    .dataframe thead th {\n",
       "        text-align: right;\n",
       "    }\n",
       "</style>\n",
       "<table border=\"1\" class=\"dataframe\">\n",
       "  <thead>\n",
       "    <tr style=\"text-align: right;\">\n",
       "      <th></th>\n",
       "      <th>symmetry</th>\n",
       "      <th>longest_ratio</th>\n",
       "      <th>num_pixels_ratio</th>\n",
       "      <th>rgb_features</th>\n",
       "      <th>haralick</th>\n",
       "      <th>ecc</th>\n",
       "      <th>kurt</th>\n",
       "      <th>skewness</th>\n",
       "    </tr>\n",
       "  </thead>\n",
       "  <tbody>\n",
       "    <tr>\n",
       "      <th>0</th>\n",
       "      <td>0.695058</td>\n",
       "      <td>0</td>\n",
       "      <td>0.002476</td>\n",
       "      <td>([5, 208, 68.08574489687165, 56.0, 47.95539885...</td>\n",
       "      <td>[0.9848405154861913, 4.633900391026453, 0.9401...</td>\n",
       "      <td>0.392019</td>\n",
       "      <td>415.810811</td>\n",
       "      <td>19.208069</td>\n",
       "    </tr>\n",
       "    <tr>\n",
       "      <th>1</th>\n",
       "      <td>0.833665</td>\n",
       "      <td>0</td>\n",
       "      <td>0.002851</td>\n",
       "      <td>([2, 248, 63.786497914961615, 55.0, 42.1535075...</td>\n",
       "      <td>[0.9825862190349237, 5.347013532380983, 0.9311...</td>\n",
       "      <td>0.595904</td>\n",
       "      <td>330.090332</td>\n",
       "      <td>17.303837</td>\n",
       "    </tr>\n",
       "  </tbody>\n",
       "</table>\n",
       "</div>"
      ],
      "text/plain": [
       "   symmetry  longest_ratio  num_pixels_ratio  \\\n",
       "0  0.695058              0          0.002476   \n",
       "1  0.833665              0          0.002851   \n",
       "\n",
       "                                        rgb_features  \\\n",
       "0  ([5, 208, 68.08574489687165, 56.0, 47.95539885...   \n",
       "1  ([2, 248, 63.786497914961615, 55.0, 42.1535075...   \n",
       "\n",
       "                                            haralick       ecc        kurt  \\\n",
       "0  [0.9848405154861913, 4.633900391026453, 0.9401...  0.392019  415.810811   \n",
       "1  [0.9825862190349237, 5.347013532380983, 0.9311...  0.595904  330.090332   \n",
       "\n",
       "    skewness  \n",
       "0  19.208069  \n",
       "1  17.303837  "
      ]
     },
     "execution_count": 76,
     "metadata": {},
     "output_type": "execute_result"
    }
   ],
   "source": [
    "dataframe"
   ]
  },
  {
   "cell_type": "code",
   "execution_count": null,
   "metadata": {},
   "outputs": [],
   "source": []
  }
 ],
 "metadata": {
  "kernelspec": {
   "display_name": "Python 3",
   "language": "python",
   "name": "python3"
  },
  "language_info": {
   "codemirror_mode": {
    "name": "ipython",
    "version": 3
   },
   "file_extension": ".py",
   "mimetype": "text/x-python",
   "name": "python",
   "nbconvert_exporter": "python",
   "pygments_lexer": "ipython3",
   "version": "3.11.9"
  }
 },
 "nbformat": 4,
 "nbformat_minor": 2
}
